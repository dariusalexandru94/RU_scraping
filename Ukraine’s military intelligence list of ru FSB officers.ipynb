{
 "cells": [
  {
   "cell_type": "markdown",
   "id": "e4d1cdd3",
   "metadata": {},
   "source": [
    "# Ukraine’s military intelligence list of ru FSB officers"
   ]
  },
  {
   "cell_type": "markdown",
   "id": "5b8c966d",
   "metadata": {},
   "source": [
    "Ukraine’s military intelligence on 28 March 2022 published the names and contact details of 620 people it alleged were **officers of Russia’s Federal Security Service (FSB)** involved in “criminal activities” in Europe."
   ]
  },
  {
   "cell_type": "markdown",
   "id": "3857866d",
   "metadata": {},
   "source": [
    "The list is available on the official webpage of the Ukrainian Military Intelligence Service:\n",
    "* https://gur.gov.ua/content/sotrudnyky-fsb-rossyy-uchastvuiushchye-v-prestupnoi-deiatelnosty-stranyahressora-na-terrytoryy-evropy.html"
   ]
  },
  {
   "cell_type": "markdown",
   "id": "bb652158",
   "metadata": {},
   "source": [
    "Next to the names there is data that the Ukrainian special service claims to contain **date of birth, passport, address registration, debts, SIM cards, modems, cars, special remarks and more**. All 620 agents are registered at the same address – Bolshaya Lubyanka Street in Moscow, the address of FSB, the former KGB."
   ]
  },
  {
   "cell_type": "code",
   "execution_count": 1,
   "id": "5855f0e5",
   "metadata": {},
   "outputs": [],
   "source": [
    "from bs4 import BeautifulSoup as bs\n",
    "import requests\n",
    "import urllib.request\n",
    "import re\n",
    "import pandas as pd\n",
    "\n",
    "from transliterate import translit\n",
    "from googletrans import Translator"
   ]
  },
  {
   "cell_type": "code",
   "execution_count": 2,
   "id": "9742b91a",
   "metadata": {},
   "outputs": [],
   "source": [
    "headers = {\n",
    "    'User-Agent': 'Mozilla/5.0 (Windows NT 10.0; Win64; x64) AppleWebKit/537.36 (KHTML, like Gecko) Chrome/80.0.3987.163 Safari/537.36'\n",
    "}\n",
    "\n",
    "url = 'https://gur.gov.ua/content/sotrudnyky-fsb-rossyy-uchastvuiushchye-v-prestupnoi-deiatelnosty-stranyahressora-na-terrytoryy-evropy.html'\n",
    "\n",
    "response = requests.get(url, headers=headers)\n",
    "soup = bs(response.content, 'html.parser')"
   ]
  },
  {
   "cell_type": "code",
   "execution_count": 3,
   "id": "4ba32beb",
   "metadata": {},
   "outputs": [],
   "source": [
    "p = soup.find_all('p')"
   ]
  },
  {
   "cell_type": "code",
   "execution_count": 5,
   "id": "8bba26f9",
   "metadata": {},
   "outputs": [],
   "source": [
    "data = []\n",
    "\n",
    "for person in p:\n",
    "    #print(person.text)\n",
    "    data.append(person.text)\n",
    "    #print(\"*************************************************************************************\")\n",
    "    #print(\"*************************************************************************************\")\n",
    "    #print(\"*************************************************************************************\")\n",
    "    #print(\"*************************************************************************************\")"
   ]
  },
  {
   "cell_type": "code",
   "execution_count": 7,
   "id": "1429f104",
   "metadata": {},
   "outputs": [
    {
     "data": {
      "text/plain": [
       "['Ф.И.О., Дата рождения, Место рождения, Паспорт, Дата выдачи, Орган выдачи, Код органа, Адрес регистрации, Орган, Адрес ранее, Особые отметки, СИГНАТУРА, Долги, Авиабилеты, Походы за кредитами, Сим-карты, модемы, Автотранспорт, Системный номер, Признак \"продано ранее\"',\n",
       " '1. АБАДЖИ МИХАИЛ ВАЛЕРЬЕВИЧ, 22.03.1977, 3802688956, 01.10.2002, МОСКВА, Б.ЛУБЯНКА д.2 ВЧ, Федеральная служба безопасности (ФСБ), РФ, +79773401033, E54FD81C33BF8586B151B2ABD2345EBE, ТВ(1), 2395;',\n",
       " '2. АБГАРЯН АРМАН ХАЧАТУРОВИЧ, 12.06.1981, 101000 г. Москва, ул. Б. Лубянка, д. 2, Федеральная служба безопасности (ФСБ) РФ, A3B52E412CB1B1E0FC3D3B859B191073, 2525;',\n",
       " '3. АБРАМОВ РОМАН ВИКТОРОВИЧ, 05.12.1986, 9006759816, 107031, г.Москва, ул.Большая Лубянка, дом 1/3, Федеральная служба безопасности (ФСБ), РФ, 2077754864E9763D0FD62006489D09FC, АА(8), АВ(3), 44, +;',\n",
       " '4. АБРАМОВИЧ СЕРГЕЙ ВИТАЛИЕВИЧ, 15.08.1971, 4499013179, 23.05.2000, УВД МАГАДАН, МОСКВА, ЛУБЯНКА Б. д.1/3 вед., Федеральная служба безопасности (ФСБ), РФ, 8629057431, 0E4A50F172814C110805E79591FAFF72, ТВ(1), 2069;']"
      ]
     },
     "execution_count": 7,
     "metadata": {},
     "output_type": "execute_result"
    }
   ],
   "source": [
    "# example\n",
    "data[:5]"
   ]
  },
  {
   "cell_type": "code",
   "execution_count": 8,
   "id": "03f83df3",
   "metadata": {},
   "outputs": [],
   "source": [
    "df = pd.DataFrame(data)\n",
    "\n",
    "df.columns = [\"person info\"]\n",
    "\n",
    "df.drop(df.index[0], inplace=True)"
   ]
  },
  {
   "cell_type": "markdown",
   "id": "813179f3",
   "metadata": {},
   "source": [
    "For translating from Ukrainian to English, I have used googletrans library."
   ]
  },
  {
   "cell_type": "code",
   "execution_count": 9,
   "id": "b1ead256",
   "metadata": {},
   "outputs": [],
   "source": [
    "def translate_(text):\n",
    "    translator = Translator()\n",
    "    try:\n",
    "        translation = translator.translate(text, src='uk', dest='en')\n",
    "        return translation.text\n",
    "    except Exception as e:\n",
    "        print(f\"Translation failed for '{text}': {e}\")\n",
    "        return text\n",
    "\n",
    "def to_english(df, column_name):\n",
    "    df[column_name] = df[column_name].apply(translate_)\n",
    "    return df"
   ]
  },
  {
   "cell_type": "code",
   "execution_count": 10,
   "id": "224e4fd2",
   "metadata": {},
   "outputs": [],
   "source": [
    "df = to_english(df, \"person info\")"
   ]
  },
  {
   "cell_type": "code",
   "execution_count": 11,
   "id": "b2b88139",
   "metadata": {},
   "outputs": [
    {
     "name": "stdout",
     "output_type": "stream",
     "text": [
      "1. Abadhi Mikhail Valerievich, 22.03.1977, 3802688956, 01.10.2002, Moscow, B. Lubyanka D.2 HF, Federal Security Service (FSB), Russian Federation, +797734010333 1), 2395;\n",
      "*******************\n",
      "2. Abgarian Arman Khachaturovich, 12.06.1981, 101000 Moscow, ul.B. Lubyanka, 2, Federal Security Service (FSB) of the Russian Federation, A3B52E412CB1B1B1B1E0FC3D3B859B191073, 2525;\n",
      "*******************\n",
      "3. АБРАМОВ РОМАН ВИКТОРОВИЧ, 05.12.1986, 9006759816, 107031, г.Москва, ул.Большая Лубянка, дом 1/3, Федеральная служба безопасности (ФСБ), РФ, 2077754864E9763D0FD62006489D09FC, АА(8), АВ(3), 44, +;\n",
      "*******************\n",
      "4. Abramovich Sergey Vitaliyevich, 15.08.1971, 4499013179, 23.05.2000, Magadan, Moscow, Lubyanka BD 1/3 Ved. , TV (1),2069;\n",
      "*******************\n",
      "5. Avezov Andrey Makhudovich, 07.12.1976, 4901171018, 30.08.2001, Moscow, Lubyanka BD 1, Federal Security Service (FSB), RF, 5D8FB47096827, 238282709\n",
      "*******************\n"
     ]
    }
   ],
   "source": [
    "for i in df['person info'][:5]:\n",
    "    print(i)\n",
    "    print(\"*******************\")"
   ]
  },
  {
   "cell_type": "markdown",
   "id": "8f6bde3a",
   "metadata": {},
   "source": [
    "#### Below, there are some further data transformations."
   ]
  },
  {
   "cell_type": "code",
   "execution_count": 12,
   "id": "16e806a2",
   "metadata": {},
   "outputs": [],
   "source": [
    "# removing any character that is a digit or a point (.) from the first 6 characters\n",
    "def delete_dg(text):\n",
    "    cleaned_text = ''.join(char for char in text[:6] if not char.isdigit() and char != '.')\n",
    "    cleaned_text += text[6:]\n",
    "    return cleaned_text\n",
    "\n",
    "df['person info'] = df['person info'].apply(delete_dg)\n",
    "\n",
    "df = df[df['person info'].str.len() >= 70]"
   ]
  },
  {
   "cell_type": "code",
   "execution_count": 13,
   "id": "62b6a4f5",
   "metadata": {},
   "outputs": [
    {
     "name": "stdout",
     "output_type": "stream",
     "text": [
      " Abadhi Mikhail Valerievich, 22.03.1977, 3802688956, 01.10.2002, Moscow, B. Lubyanka D.2 HF, Federal Security Service (FSB), Russian Federation, +797734010333 1), 2395;\n",
      "***************************************************\n",
      " Abgarian Arman Khachaturovich, 12.06.1981, 101000 Moscow, ul.B. Lubyanka, 2, Federal Security Service (FSB) of the Russian Federation, A3B52E412CB1B1B1B1E0FC3D3B859B191073, 2525;\n",
      "***************************************************\n",
      " АБРАМОВ РОМАН ВИКТОРОВИЧ, 05.12.1986, 9006759816, 107031, г.Москва, ул.Большая Лубянка, дом 1/3, Федеральная служба безопасности (ФСБ), РФ, 2077754864E9763D0FD62006489D09FC, АА(8), АВ(3), 44, +;\n",
      "***************************************************\n",
      " Abramovich Sergey Vitaliyevich, 15.08.1971, 4499013179, 23.05.2000, Magadan, Moscow, Lubyanka BD 1/3 Ved. , TV (1),2069;\n",
      "***************************************************\n",
      " Avezov Andrey Makhudovich, 07.12.1976, 4901171018, 30.08.2001, Moscow, Lubyanka BD 1, Federal Security Service (FSB), RF, 5D8FB47096827, 238282709\n",
      "***************************************************\n"
     ]
    }
   ],
   "source": [
    "for i in df['person info'][:5]:\n",
    "    print(i)\n",
    "    print(\"***************************************************\")"
   ]
  },
  {
   "cell_type": "markdown",
   "id": "961b28e5",
   "metadata": {},
   "source": [
    "Creating a new column with the name of the persons"
   ]
  },
  {
   "cell_type": "code",
   "execution_count": 14,
   "id": "9146080d",
   "metadata": {},
   "outputs": [],
   "source": [
    "names_list = df[\"person info\"].apply(lambda x: x.split(\",\", 1)[0]) # split by comma\n",
    "\n",
    "list_ = names_list.tolist()\n",
    "\n",
    "df.loc[:, \"name\"] = list_\n",
    "\n",
    "df = df[['name', 'person info']]\n",
    "\n",
    "def remove_first_element(s):\n",
    "    elements = s.split(',') # split the string by comma (\",\")\n",
    "    result = ','.join(elements[1:]) # remove the first element and join the rest back into a string\n",
    "    return result\n",
    "\n",
    "df['person info'] = df['person info'].apply(remove_first_element)"
   ]
  },
  {
   "cell_type": "markdown",
   "id": "c7964328",
   "metadata": {},
   "source": [
    "Keeping only valid names."
   ]
  },
  {
   "cell_type": "code",
   "execution_count": 15,
   "id": "a24c788c",
   "metadata": {},
   "outputs": [],
   "source": [
    "def keep_valid_names(text): \n",
    "    pattern = r'^[A-Za-z\\s-]+$' # pattern to match valid names (letters, spaces and hyphens)\n",
    "    return text if re.match(pattern, text) else ''\n",
    "\n",
    "df['name'] = df['name'].apply(keep_valid_names)\n",
    "\n",
    "df = df[df['name'].str.len() >= 3]"
   ]
  },
  {
   "cell_type": "code",
   "execution_count": 23,
   "id": "85a1a3f4",
   "metadata": {},
   "outputs": [
    {
     "data": {
      "text/html": [
       "<div>\n",
       "<style scoped>\n",
       "    .dataframe tbody tr th:only-of-type {\n",
       "        vertical-align: middle;\n",
       "    }\n",
       "\n",
       "    .dataframe tbody tr th {\n",
       "        vertical-align: top;\n",
       "    }\n",
       "\n",
       "    .dataframe thead th {\n",
       "        text-align: right;\n",
       "    }\n",
       "</style>\n",
       "<table border=\"1\" class=\"dataframe\">\n",
       "  <thead>\n",
       "    <tr style=\"text-align: right;\">\n",
       "      <th></th>\n",
       "      <th>name</th>\n",
       "      <th>person info</th>\n",
       "    </tr>\n",
       "  </thead>\n",
       "  <tbody>\n",
       "    <tr>\n",
       "      <th>1</th>\n",
       "      <td>Abadhi Mikhail Valerievich</td>\n",
       "      <td>22.03.1977, 3802688956, 01.10.2002, Moscow, B...</td>\n",
       "    </tr>\n",
       "    <tr>\n",
       "      <th>2</th>\n",
       "      <td>Abgarian Arman Khachaturovich</td>\n",
       "      <td>12.06.1981, 101000 Moscow, ul.B. Lubyanka, 2,...</td>\n",
       "    </tr>\n",
       "    <tr>\n",
       "      <th>4</th>\n",
       "      <td>Abramovich Sergey Vitaliyevich</td>\n",
       "      <td>15.08.1971, 4499013179, 23.05.2000, Magadan, ...</td>\n",
       "    </tr>\n",
       "    <tr>\n",
       "      <th>5</th>\n",
       "      <td>Avezov Andrey Makhudovich</td>\n",
       "      <td>07.12.1976, 4901171018, 30.08.2001, Moscow, L...</td>\n",
       "    </tr>\n",
       "    <tr>\n",
       "      <th>6</th>\n",
       "      <td>Agooltsev Mikhail Sergeyevich</td>\n",
       "      <td>05.07.1986, no Dannykh, 107031, G. Moscow, Vl...</td>\n",
       "    </tr>\n",
       "    <tr>\n",
       "      <th>7</th>\n",
       "      <td>Azimov Ramydin Emirzhanovich</td>\n",
       "      <td>12.08.1971, 8202913216, 25.10.2002, G. Makhac...</td>\n",
       "    </tr>\n",
       "    <tr>\n",
       "      <th>8</th>\n",
       "      <td>Idarov Tatiana Yuryevna</td>\n",
       "      <td>05.11.1971, Altai Krai, Aleysky District, S. ...</td>\n",
       "    </tr>\n",
       "    <tr>\n",
       "      <th>9</th>\n",
       "      <td>Maxim Alexandrovich Akinin</td>\n",
       "      <td>05.02.1981, 6103908757, 07.07.2003, Zheleznor...</td>\n",
       "    </tr>\n",
       "    <tr>\n",
       "      <th>10</th>\n",
       "      <td>Aksenov Oleg Alekseevich</td>\n",
       "      <td>26.03.1967, Belgorod, 1404397559, 03.04.2004,...</td>\n",
       "    </tr>\n",
       "    <tr>\n",
       "      <th>11</th>\n",
       "      <td>Aksenov Fedor Olegovich</td>\n",
       "      <td>4510826767, 14.12.2010, Officing of UFMS Russ...</td>\n",
       "    </tr>\n",
       "  </tbody>\n",
       "</table>\n",
       "</div>"
      ],
      "text/plain": [
       "                               name  \\\n",
       "1        Abadhi Mikhail Valerievich   \n",
       "2     Abgarian Arman Khachaturovich   \n",
       "4    Abramovich Sergey Vitaliyevich   \n",
       "5         Avezov Andrey Makhudovich   \n",
       "6     Agooltsev Mikhail Sergeyevich   \n",
       "7      Azimov Ramydin Emirzhanovich   \n",
       "8           Idarov Tatiana Yuryevna   \n",
       "9        Maxim Alexandrovich Akinin   \n",
       "10         Aksenov Oleg Alekseevich   \n",
       "11          Aksenov Fedor Olegovich   \n",
       "\n",
       "                                          person info  \n",
       "1    22.03.1977, 3802688956, 01.10.2002, Moscow, B...  \n",
       "2    12.06.1981, 101000 Moscow, ul.B. Lubyanka, 2,...  \n",
       "4    15.08.1971, 4499013179, 23.05.2000, Magadan, ...  \n",
       "5    07.12.1976, 4901171018, 30.08.2001, Moscow, L...  \n",
       "6    05.07.1986, no Dannykh, 107031, G. Moscow, Vl...  \n",
       "7    12.08.1971, 8202913216, 25.10.2002, G. Makhac...  \n",
       "8    05.11.1971, Altai Krai, Aleysky District, S. ...  \n",
       "9    05.02.1981, 6103908757, 07.07.2003, Zheleznor...  \n",
       "10   26.03.1967, Belgorod, 1404397559, 03.04.2004,...  \n",
       "11   4510826767, 14.12.2010, Officing of UFMS Russ...  "
      ]
     },
     "execution_count": 23,
     "metadata": {},
     "output_type": "execute_result"
    }
   ],
   "source": [
    "df.head(10)"
   ]
  },
  {
   "cell_type": "code",
   "execution_count": 22,
   "id": "c8d4bcd2",
   "metadata": {},
   "outputs": [
    {
     "name": "stdout",
     "output_type": "stream",
     "text": [
      " Abadhi Mikhail Valerievich\n",
      "********************\n",
      " 22.03.1977, 3802688956, 01.10.2002, Moscow, B. Lubyanka D.2 HF, Federal Security Service (FSB), Russian Federation, +797734010333 1), 2395;\n",
      "********************\n"
     ]
    }
   ],
   "source": [
    "for i in df.iloc[0]:\n",
    "    print(i)\n",
    "    print('********************')"
   ]
  }
 ],
 "metadata": {
  "kernelspec": {
   "display_name": "Python 3 (ipykernel)",
   "language": "python",
   "name": "python3"
  },
  "language_info": {
   "codemirror_mode": {
    "name": "ipython",
    "version": 3
   },
   "file_extension": ".py",
   "mimetype": "text/x-python",
   "name": "python",
   "nbconvert_exporter": "python",
   "pygments_lexer": "ipython3",
   "version": "3.9.12"
  }
 },
 "nbformat": 4,
 "nbformat_minor": 5
}
