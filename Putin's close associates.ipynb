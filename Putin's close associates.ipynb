{
 "cells": [
  {
   "cell_type": "markdown",
   "id": "c6158d1e",
   "metadata": {},
   "source": [
    "# Scraping for Putin's close associates\n",
    "https://www.spisok-putina.org/"
   ]
  },
  {
   "cell_type": "markdown",
   "id": "78524b0d",
   "metadata": {},
   "source": [
    "The website (https://www.spisok-putina.org/) **“PUTIN’S LIST”** is created by the Free Russia Forum in order **to search, consolidate and unify data** on those responsible for creating and running a system of unchecked power and suppressing civil liberties both in Russia and abroad."
   ]
  },
  {
   "cell_type": "markdown",
   "id": "6ac36056",
   "metadata": {},
   "source": [
    "The project aims to gather information related to persons of the following categories:\n",
    "\n",
    "* The **“POWER-HOLDERS”** of Russia, who seized and unlawfully hold power in the country;\n",
    "* The **“EXECUTORS”**, who, as public servants and MPs, directly implement the Kremlin’s policy of felonious retention of power in the country;\n",
    "* The **“TRANSGRESSORS”**, from among the judges, prosecutors, investigators, lawyers, law enforcement officers and their agents responsible for the direct implementation of the repression and prosecution of the opposition;\n",
    "* The **“AGGRESSORS”**, who are responsible for carrying out the policies of war, occupation and chaos against other countries, in violation of international law, in the political interests of the leadership of the country;\n",
    "* The **“BENEFICIARIES”**, foreign partners of the Russian government who contribute to the implementation of its felonious plans to undermine international law and global peace, justice and democracy.\n",
    "* The **“OLIGARCHS AND CORRUPT OFFICIALS”**, who are responsible for plundering Russia on a state-wide scale, by direct membership in the Russian government or proximity to it through relatives and other proxies;\n",
    "* The **“PROPAGANDISTS”**, who are responsible for creating and disseminating state information, deliberately deceiving people in the interests of the political leadership and creating an atmosphere of widespread hatred and intolerance;\n",
    "* The **“ACCOMPLICES”**, who reap personal profit from cooperation with government authorities, to the detriment of the interests of the country and its citizens;"
   ]
  },
  {
   "cell_type": "code",
   "execution_count": 7,
   "id": "c4581ed6",
   "metadata": {},
   "outputs": [],
   "source": [
    "from bs4 import BeautifulSoup as bs\n",
    "import requests\n",
    "import urllib.request\n",
    "import re\n",
    "import pandas as pd\n",
    "from transliterate import translit"
   ]
  },
  {
   "cell_type": "markdown",
   "id": "eff437e9",
   "metadata": {},
   "source": [
    "I started by creating a list that only keeps the first names of individuals. I used this for adding the name to the original url \n",
    "so I can access and scrape each page apart"
   ]
  },
  {
   "cell_type": "code",
   "execution_count": 8,
   "id": "236e584b",
   "metadata": {},
   "outputs": [],
   "source": [
    "base_url = \"https://www.spisok-putina.org/en/personas/page/#/\"\n",
    "\n",
    "\"\"\"this list keeps only the first name\"\"\"\n",
    "persons_list = []\n",
    "\n",
    "for page_number in range(1, 141): # there are 140 webpages for each particular individual\n",
    "    url = base_url.replace(\"#\", str(page_number))\n",
    "    response = requests.get(url) # send request\n",
    "    soup = bs(response.content, 'html.parser')  # bs object\n",
    "    person_names = soup.find_all('div', class_='preview-material__content') # extract all person names\n",
    "\n",
    "    # append the first word of each name to the persons_list\n",
    "    for person_name in person_names:\n",
    "        full_name = person_name.text.strip().replace('\\n', ' ').replace('  ', ' ')\n",
    "        first_word = full_name.split()[0]\n",
    "        persons_list.append(first_word.lower())"
   ]
  },
  {
   "cell_type": "code",
   "execution_count": 9,
   "id": "f06c484d",
   "metadata": {},
   "outputs": [
    {
     "data": {
      "text/plain": [
       "['abakarov',\n",
       " 'abdullazyanov',\n",
       " 'abramov',\n",
       " 'abramovich',\n",
       " 'afanasieva',\n",
       " 'afanasov',\n",
       " 'afanasyeva',\n",
       " 'afasizhev',\n",
       " 'afonin',\n",
       " 'agabekyan']"
      ]
     },
     "execution_count": 9,
     "metadata": {},
     "output_type": "execute_result"
    }
   ],
   "source": [
    "# example\n",
    "persons_list[:10]"
   ]
  },
  {
   "cell_type": "markdown",
   "id": "7671512b",
   "metadata": {},
   "source": [
    "I will add the name of each individual to the base url, than I start to acces each page and scrape for needed information like name, citizenship, date of birth, category, biography. Finally, create a dataframe with that information."
   ]
  },
  {
   "cell_type": "code",
   "execution_count": 10,
   "id": "6e2037e4",
   "metadata": {},
   "outputs": [],
   "source": [
    "base_url = \"https://www.spisok-putina.org/en/personas/\" # this is the base url\n",
    "\n",
    "data = [] # for df creation"
   ]
  },
  {
   "cell_type": "code",
   "execution_count": 12,
   "id": "312a6d2d",
   "metadata": {},
   "outputs": [
    {
     "name": "stderr",
     "output_type": "stream",
     "text": [
      "C:\\Users\\Asus\\AppData\\Local\\Temp\\ipykernel_752\\3730135327.py:12: DeprecationWarning: The 'text' argument to find()-type methods is deprecated. Use 'string' instead.\n",
      "  dob_element = soup.find('strong', text=\"Date of Birth:\")\n",
      "C:\\Users\\Asus\\AppData\\Local\\Temp\\ipykernel_752\\3730135327.py:15: DeprecationWarning: The 'text' argument to find()-type methods is deprecated. Use 'string' instead.\n",
      "  citizenship_element = soup.find('strong', text=\"Citizenship:\")\n",
      "C:\\Users\\Asus\\AppData\\Local\\Temp\\ipykernel_752\\3730135327.py:18: DeprecationWarning: The 'text' argument to find()-type methods is deprecated. Use 'string' instead.\n",
      "  categories_element = soup.find('strong', text=\"Categories:\")\n"
     ]
    },
    {
     "name": "stdout",
     "output_type": "stream",
     "text": [
      "Error fetching data for timchenko: 404 Client Error: Not Found for url: https://www.spisok-putina.org/personas/timchenko/\n",
      "Error fetching data for timchenko: 404 Client Error: Not Found for url: https://www.spisok-putina.org/personas/timchenko/\n",
      "Error fetching data for yevtushenkov: 404 Client Error: Not Found for url: https://www.spisok-putina.org/en/personas/yevtushenkov\n",
      "Error fetching data for корнев: 404 Client Error: Not Found for url: https://www.spisok-putina.org/en/personas/%D0%BA%D0%BE%D1%80%D0%BD%D0%B5%D0%B2\n"
     ]
    }
   ],
   "source": [
    "for name in persons_list:\n",
    "    url = base_url + name\n",
    "    try:\n",
    "        page = requests.get(url)\n",
    "        page.raise_for_status()  # Raise an HTTPError for bad responses\n",
    "        soup = bs(page.content, 'html.parser')\n",
    "\n",
    "        # Extracting information from the webpage\n",
    "        name_element = soup.select_one('.material__title')\n",
    "        name = name_element.text.strip() if name_element else ''\n",
    "\n",
    "        dob_element = soup.find('strong', text=\"Date of Birth:\")\n",
    "        date_of_birth = dob_element.find_next('br').next_sibling.strip() if dob_element else ''\n",
    "\n",
    "        citizenship_element = soup.find('strong', text=\"Citizenship:\")\n",
    "        citizenship = citizenship_element.find_next('br').next_sibling.strip() if citizenship_element else ''\n",
    "\n",
    "        categories_element = soup.find('strong', text=\"Categories:\")\n",
    "        categories = \"\"\n",
    "        if categories_element:\n",
    "            categories_tags = categories_element.find_next_siblings('a')\n",
    "            categories_list = [tag.text.strip() for tag in categories_tags]\n",
    "            categories = ', '.join(categories_list)\n",
    "\n",
    "        biography_element = soup.find('div', class_='entry-content')\n",
    "        for unwanted_section in biography_element.select('.section-accused, .section-materials'):\n",
    "            unwanted_section.extract()\n",
    "\n",
    "        biography_paragraph = biography_element.find('p')\n",
    "        biography = biography_paragraph.text.strip() if biography_paragraph else ''\n",
    "\n",
    "        data.append({\n",
    "            'Name': name,\n",
    "            'Date of Birth': date_of_birth,\n",
    "            'Citizenship': citizenship,\n",
    "            'Categories': categories,\n",
    "            'Biography': biography\n",
    "        })\n",
    "    except requests.exceptions.RequestException as e:\n",
    "        print(f\"Error fetching data for {name}: {e}\")"
   ]
  },
  {
   "cell_type": "code",
   "execution_count": 19,
   "id": "8a0a3211",
   "metadata": {},
   "outputs": [
    {
     "data": {
      "text/plain": [
       "{'Name': 'Abakarov Khizri  Magomedovich',\n",
       " 'Date of Birth': '28 June 1960',\n",
       " 'Citizenship': 'Russia',\n",
       " 'Categories': 'Beneficiaries',\n",
       " 'Biography': 'Russian statesman and public figure, entrepreneur. Head of the administration of the city of Derbent of the Republic of Dagestan. State Secretary of the Republic of Dagestan since November 10, 2020. Member of the State Duma of the Russian Federation since 2021 from the United Russia party'}"
      ]
     },
     "execution_count": 19,
     "metadata": {},
     "output_type": "execute_result"
    }
   ],
   "source": [
    "# example\n",
    "data[0]"
   ]
  },
  {
   "cell_type": "code",
   "execution_count": 13,
   "id": "8462cdba",
   "metadata": {},
   "outputs": [],
   "source": [
    "mydata = pd.DataFrame(data)"
   ]
  },
  {
   "cell_type": "code",
   "execution_count": 20,
   "id": "e6a5537d",
   "metadata": {},
   "outputs": [
    {
     "data": {
      "text/html": [
       "<div>\n",
       "<style scoped>\n",
       "    .dataframe tbody tr th:only-of-type {\n",
       "        vertical-align: middle;\n",
       "    }\n",
       "\n",
       "    .dataframe tbody tr th {\n",
       "        vertical-align: top;\n",
       "    }\n",
       "\n",
       "    .dataframe thead th {\n",
       "        text-align: right;\n",
       "    }\n",
       "</style>\n",
       "<table border=\"1\" class=\"dataframe\">\n",
       "  <thead>\n",
       "    <tr style=\"text-align: right;\">\n",
       "      <th></th>\n",
       "      <th>Name</th>\n",
       "      <th>Date of Birth</th>\n",
       "      <th>Citizenship</th>\n",
       "      <th>Categories</th>\n",
       "      <th>Biography</th>\n",
       "    </tr>\n",
       "  </thead>\n",
       "  <tbody>\n",
       "    <tr>\n",
       "      <th>0</th>\n",
       "      <td>Abakarov Khizri  Magomedovich</td>\n",
       "      <td>28 June 1960</td>\n",
       "      <td>Russia</td>\n",
       "      <td>Beneficiaries</td>\n",
       "      <td>Russian statesman and public figure, entrepren...</td>\n",
       "    </tr>\n",
       "    <tr>\n",
       "      <th>1</th>\n",
       "      <td>Abdullazyanov Edward Yunusovich</td>\n",
       "      <td>8 April 1957</td>\n",
       "      <td>Russia</td>\n",
       "      <td>Accomplices</td>\n",
       "      <td>Rector of Kazan State Power Engineering Univer...</td>\n",
       "    </tr>\n",
       "    <tr>\n",
       "      <th>2</th>\n",
       "      <td>Abramov Ivan Nikolaevich</td>\n",
       "      <td>16 June 1978</td>\n",
       "      <td>Russia</td>\n",
       "      <td>Executors</td>\n",
       "      <td>Deputy Chairman of the Federation Council Comm...</td>\n",
       "    </tr>\n",
       "    <tr>\n",
       "      <th>3</th>\n",
       "      <td>Абрамович Роман Аркадьевич</td>\n",
       "      <td></td>\n",
       "      <td></td>\n",
       "      <td></td>\n",
       "      <td>Роман Абрамович родился 24 октября 1966 года в...</td>\n",
       "    </tr>\n",
       "    <tr>\n",
       "      <th>4</th>\n",
       "      <td>Afanasieva (Berg) Yulia</td>\n",
       "      <td>24 February 1988</td>\n",
       "      <td>Russia</td>\n",
       "      <td>Executors</td>\n",
       "      <td>An employee of the African Association for Fre...</td>\n",
       "    </tr>\n",
       "  </tbody>\n",
       "</table>\n",
       "</div>"
      ],
      "text/plain": [
       "                              Name     Date of Birth Citizenship  \\\n",
       "0    Abakarov Khizri  Magomedovich      28 June 1960      Russia   \n",
       "1  Abdullazyanov Edward Yunusovich      8 April 1957      Russia   \n",
       "2         Abramov Ivan Nikolaevich      16 June 1978      Russia   \n",
       "3       Абрамович Роман Аркадьевич                                 \n",
       "4          Afanasieva (Berg) Yulia  24 February 1988      Russia   \n",
       "\n",
       "      Categories                                          Biography  \n",
       "0  Beneficiaries  Russian statesman and public figure, entrepren...  \n",
       "1    Accomplices  Rector of Kazan State Power Engineering Univer...  \n",
       "2      Executors  Deputy Chairman of the Federation Council Comm...  \n",
       "3                 Роман Абрамович родился 24 октября 1966 года в...  \n",
       "4      Executors  An employee of the African Association for Fre...  "
      ]
     },
     "execution_count": 20,
     "metadata": {},
     "output_type": "execute_result"
    }
   ],
   "source": [
    "mydata.head()"
   ]
  },
  {
   "cell_type": "markdown",
   "id": "85f7e0ce",
   "metadata": {},
   "source": [
    "**There are some inaccuracies in data like for example some information are in russian, because there are duplicates (persons who share the same name) so his particular webpage is different. And, in the case of duplicates, I have scraped the russian version of webpage. So I will do some data transformation and preprocessing for adjusting these errors and gather as much information as I can.**"
   ]
  },
  {
   "cell_type": "code",
   "execution_count": 21,
   "id": "dac405d5",
   "metadata": {},
   "outputs": [],
   "source": [
    "list_ = mydata['Name'].tolist()"
   ]
  },
  {
   "cell_type": "markdown",
   "id": "19b316f9",
   "metadata": {},
   "source": [
    "#### Transforming ru chars names in English"
   ]
  },
  {
   "cell_type": "code",
   "execution_count": 22,
   "id": "6c49d169",
   "metadata": {},
   "outputs": [],
   "source": [
    "english_first_words = []\n",
    "\n",
    "for name in list_:\n",
    "    name_parts = name.split() # split the name into words\n",
    "    if len(name_parts) > 0: # check if the name has at least one word\n",
    "        first_word = name_parts[0]\n",
    "        if any(ord(char) > 128 for char in first_word): # check if the first word it's in Russian (if contains any non ASCII characters)\n",
    "            english_first_word = translit(first_word, 'ru', reversed=True) # translate the first word from russian to en\n",
    "            english_first_words.append(english_first_word.lower())"
   ]
  },
  {
   "cell_type": "markdown",
   "id": "343d2937",
   "metadata": {},
   "source": [
    "Some persons share the same name like for example the name \"Ivanov\". Then, the webpage coresponding to a particular person will be:\n",
    "https://www.spisok-putina.org/personas/ivanov/, or https://www.spisok-putina.org/personas/ivanov-2/, or https://www.spisok-putina.org/personas/ivanov-3/ and so on. So I created a function to ad \"-2\" or \"-3\" (coressponding number), based on how many occurencies of that name are in the above list."
   ]
  },
  {
   "cell_type": "code",
   "execution_count": 24,
   "id": "5a473895",
   "metadata": {},
   "outputs": [],
   "source": [
    "def transform_items(lst):\n",
    "    item_count = {}\n",
    "    transformed_list = []\n",
    "\n",
    "    for item in lst:\n",
    "        if item in item_count:\n",
    "            item_count[item] += 1\n",
    "        else:\n",
    "            item_count[item] = 1\n",
    "\n",
    "        count = item_count[item]\n",
    "\n",
    "        if count == 1:\n",
    "            transformed_list.append(f\"{item}-2\")\n",
    "        else:\n",
    "            transformed_list.append(f\"{item}-{count}\")\n",
    "\n",
    "    return transformed_list"
   ]
  },
  {
   "cell_type": "code",
   "execution_count": 25,
   "id": "667e9125",
   "metadata": {},
   "outputs": [],
   "source": [
    "newlist_ = transform_items(english_first_words)"
   ]
  },
  {
   "cell_type": "markdown",
   "id": "5868e77b",
   "metadata": {},
   "source": [
    "**Now, I can acces that pages too, saving a lot of information.**"
   ]
  },
  {
   "cell_type": "code",
   "execution_count": 27,
   "id": "4d40a1f4",
   "metadata": {},
   "outputs": [
    {
     "data": {
      "text/plain": [
       "['abramovich-2',\n",
       " 'afasizhev-2',\n",
       " 'agalarov-2',\n",
       " 'agramunt-2',\n",
       " 'akimov-2',\n",
       " 'akimov-2',\n",
       " 'aksenov-2',\n",
       " 'alekperov-2',\n",
       " 'ammosov-2',\n",
       " 'ananskih-2']"
      ]
     },
     "execution_count": 27,
     "metadata": {},
     "output_type": "execute_result"
    }
   ],
   "source": [
    "newlist_[:10]"
   ]
  },
  {
   "cell_type": "markdown",
   "id": "a681fce3",
   "metadata": {},
   "source": [
    "Here I just used the same script as above"
   ]
  },
  {
   "cell_type": "code",
   "execution_count": 29,
   "id": "dc075ca8",
   "metadata": {},
   "outputs": [
    {
     "name": "stderr",
     "output_type": "stream",
     "text": [
      "C:\\Users\\Asus\\AppData\\Local\\Temp\\ipykernel_752\\2645672818.py:12: DeprecationWarning: The 'text' argument to find()-type methods is deprecated. Use 'string' instead.\n",
      "  dob_element = soup.find('strong', text=\"Date of Birth:\")\n",
      "C:\\Users\\Asus\\AppData\\Local\\Temp\\ipykernel_752\\2645672818.py:16: DeprecationWarning: The 'text' argument to find()-type methods is deprecated. Use 'string' instead.\n",
      "  citizenship_element = soup.find('strong', text=\"Citizenship:\")\n",
      "C:\\Users\\Asus\\AppData\\Local\\Temp\\ipykernel_752\\2645672818.py:20: DeprecationWarning: The 'text' argument to find()-type methods is deprecated. Use 'string' instead.\n",
      "  categories_element = soup.find('strong', text=\"Categories:\")\n"
     ]
    }
   ],
   "source": [
    "data2 = []\n",
    "\n",
    "for name in newlist_:\n",
    "    url = base_url + name\n",
    "    try:\n",
    "        page = requests.get(url)\n",
    "        soup = bs(page.content, 'html.parser')\n",
    "        name_element = soup.select_one('.material__title')\n",
    "        name = name_element.text.strip() if name_element else ''\n",
    "        #print(\"Name:\", name)\n",
    "\n",
    "        dob_element = soup.find('strong', text=\"Date of Birth:\")\n",
    "        date_of_birth = dob_element.find_next('br').next_sibling.strip() if dob_element else ''\n",
    "        #print(\"Date of Birth:\", date_of_birth)\n",
    "\n",
    "        citizenship_element = soup.find('strong', text=\"Citizenship:\")\n",
    "        citizenship = citizenship_element.find_next('br').next_sibling.strip() if citizenship_element else ''\n",
    "        #print(\"Citizenship:\", citizenship)\n",
    "\n",
    "        categories_element = soup.find('strong', text=\"Categories:\")\n",
    "        categories = \"\"\n",
    "        if categories_element:\n",
    "            categories_tags = categories_element.find_next_siblings('a')\n",
    "            categories_list = [tag.text.strip() for tag in categories_tags]\n",
    "            categories = ', '.join(categories_list)\n",
    "\n",
    "        #print(\"Categories:\", categories)\n",
    "\n",
    "        biography_element = soup.find('div', class_='entry-content')\n",
    "        if biography_element:\n",
    "            for unwanted_section in biography_element.select('.section-accused, .section-materials'):\n",
    "                unwanted_section.extract()\n",
    "\n",
    "            biography_paragraph = biography_element.find('p')\n",
    "            biography = biography_paragraph.text.strip() if biography_paragraph else ''\n",
    "            #print(\"Biography:\", biography)\n",
    "\n",
    "            data2.append({\n",
    "                'Name': name,\n",
    "                'Date of Birth': date_of_birth,\n",
    "                'Citizenship': citizenship,\n",
    "                'Categories': categories,\n",
    "                'Biography': biography\n",
    "            })\n",
    "        else:\n",
    "            pass\n",
    "    except requests.exceptions.RequestException:\n",
    "        pass\n",
    "\n",
    "df2 = pd.DataFrame(data2)"
   ]
  },
  {
   "cell_type": "markdown",
   "id": "792200e3",
   "metadata": {},
   "source": [
    "Now I have to remove the instances from dataframe that are in Russian and than concatanate it with df2, which is bassically the english translation of that deleted instances."
   ]
  },
  {
   "cell_type": "code",
   "execution_count": 30,
   "id": "b17fd01f",
   "metadata": {},
   "outputs": [],
   "source": [
    "import unicodedata # this is for check if text contains ru characters"
   ]
  },
  {
   "cell_type": "code",
   "execution_count": 31,
   "id": "d4fd675d",
   "metadata": {},
   "outputs": [],
   "source": [
    "# check if text contains ru characters\n",
    "def contains_russian(text):\n",
    "    for char in text:\n",
    "        if 'CYRILLIC' in unicodedata.name(char, ''):\n",
    "            return True\n",
    "    return False\n",
    "\n",
    "\n",
    "# remove rows from the df that contain ru chars\n",
    "def remove_rows_with_russian(df):\n",
    "    indices_to_remove = []\n",
    "\n",
    "    for index, row in df.iterrows():\n",
    "        if any(contains_russian(str(cell)) for cell in row):\n",
    "            indices_to_remove.append(index)\n",
    "\n",
    "    cleaned_df = df.drop(indices_to_remove)\n",
    "    return cleaned_df"
   ]
  },
  {
   "cell_type": "code",
   "execution_count": 32,
   "id": "c4e6d8b5",
   "metadata": {},
   "outputs": [],
   "source": [
    "without_ru = remove_rows_with_russian(mydata)"
   ]
  },
  {
   "cell_type": "markdown",
   "id": "15f8d74f",
   "metadata": {},
   "source": [
    "## Full dataset"
   ]
  },
  {
   "cell_type": "code",
   "execution_count": 33,
   "id": "4be7bbf1",
   "metadata": {},
   "outputs": [],
   "source": [
    "full_dataset = pd.concat([without_ru, df2], ignore_index = True)"
   ]
  },
  {
   "cell_type": "code",
   "execution_count": 34,
   "id": "c0731c23",
   "metadata": {},
   "outputs": [
    {
     "data": {
      "text/html": [
       "<div>\n",
       "<style scoped>\n",
       "    .dataframe tbody tr th:only-of-type {\n",
       "        vertical-align: middle;\n",
       "    }\n",
       "\n",
       "    .dataframe tbody tr th {\n",
       "        vertical-align: top;\n",
       "    }\n",
       "\n",
       "    .dataframe thead th {\n",
       "        text-align: right;\n",
       "    }\n",
       "</style>\n",
       "<table border=\"1\" class=\"dataframe\">\n",
       "  <thead>\n",
       "    <tr style=\"text-align: right;\">\n",
       "      <th></th>\n",
       "      <th>Name</th>\n",
       "      <th>Date of Birth</th>\n",
       "      <th>Citizenship</th>\n",
       "      <th>Categories</th>\n",
       "      <th>Biography</th>\n",
       "    </tr>\n",
       "  </thead>\n",
       "  <tbody>\n",
       "    <tr>\n",
       "      <th>0</th>\n",
       "      <td>Abakarov Khizri  Magomedovich</td>\n",
       "      <td>28 June 1960</td>\n",
       "      <td>Russia</td>\n",
       "      <td>Beneficiaries</td>\n",
       "      <td>Russian statesman and public figure, entrepren...</td>\n",
       "    </tr>\n",
       "    <tr>\n",
       "      <th>1</th>\n",
       "      <td>Abdullazyanov Edward Yunusovich</td>\n",
       "      <td>8 April 1957</td>\n",
       "      <td>Russia</td>\n",
       "      <td>Accomplices</td>\n",
       "      <td>Rector of Kazan State Power Engineering Univer...</td>\n",
       "    </tr>\n",
       "    <tr>\n",
       "      <th>2</th>\n",
       "      <td>Abramov Ivan Nikolaevich</td>\n",
       "      <td>16 June 1978</td>\n",
       "      <td>Russia</td>\n",
       "      <td>Executors</td>\n",
       "      <td>Deputy Chairman of the Federation Council Comm...</td>\n",
       "    </tr>\n",
       "    <tr>\n",
       "      <th>3</th>\n",
       "      <td>Afanasieva (Berg) Yulia</td>\n",
       "      <td>24 February 1988</td>\n",
       "      <td>Russia</td>\n",
       "      <td>Executors</td>\n",
       "      <td>An employee of the African Association for Fre...</td>\n",
       "    </tr>\n",
       "    <tr>\n",
       "      <th>4</th>\n",
       "      <td>Afanasov Mikhail Alexandrovich</td>\n",
       "      <td>15 July 1953</td>\n",
       "      <td>Russia</td>\n",
       "      <td>Executors</td>\n",
       "      <td>Member of the Committee of the Federation Coun...</td>\n",
       "    </tr>\n",
       "  </tbody>\n",
       "</table>\n",
       "</div>"
      ],
      "text/plain": [
       "                              Name     Date of Birth Citizenship  \\\n",
       "0    Abakarov Khizri  Magomedovich      28 June 1960      Russia   \n",
       "1  Abdullazyanov Edward Yunusovich      8 April 1957      Russia   \n",
       "2         Abramov Ivan Nikolaevich      16 June 1978      Russia   \n",
       "3          Afanasieva (Berg) Yulia  24 February 1988      Russia   \n",
       "4   Afanasov Mikhail Alexandrovich      15 July 1953      Russia   \n",
       "\n",
       "      Categories                                          Biography  \n",
       "0  Beneficiaries  Russian statesman and public figure, entrepren...  \n",
       "1    Accomplices  Rector of Kazan State Power Engineering Univer...  \n",
       "2      Executors  Deputy Chairman of the Federation Council Comm...  \n",
       "3      Executors  An employee of the African Association for Fre...  \n",
       "4      Executors  Member of the Committee of the Federation Coun...  "
      ]
     },
     "execution_count": 34,
     "metadata": {},
     "output_type": "execute_result"
    }
   ],
   "source": [
    "full_dataset.head()"
   ]
  },
  {
   "cell_type": "code",
   "execution_count": 35,
   "id": "d26510bc",
   "metadata": {},
   "outputs": [
    {
     "data": {
      "text/html": [
       "<div>\n",
       "<style scoped>\n",
       "    .dataframe tbody tr th:only-of-type {\n",
       "        vertical-align: middle;\n",
       "    }\n",
       "\n",
       "    .dataframe tbody tr th {\n",
       "        vertical-align: top;\n",
       "    }\n",
       "\n",
       "    .dataframe thead th {\n",
       "        text-align: right;\n",
       "    }\n",
       "</style>\n",
       "<table border=\"1\" class=\"dataframe\">\n",
       "  <thead>\n",
       "    <tr style=\"text-align: right;\">\n",
       "      <th></th>\n",
       "      <th>count</th>\n",
       "      <th>unique</th>\n",
       "      <th>top</th>\n",
       "      <th>freq</th>\n",
       "    </tr>\n",
       "  </thead>\n",
       "  <tbody>\n",
       "    <tr>\n",
       "      <th>Name</th>\n",
       "      <td>1614</td>\n",
       "      <td>1437</td>\n",
       "      <td>Orlov Aleksey Maratovich</td>\n",
       "      <td>5</td>\n",
       "    </tr>\n",
       "    <tr>\n",
       "      <th>Date of Birth</th>\n",
       "      <td>1614</td>\n",
       "      <td>1171</td>\n",
       "      <td></td>\n",
       "      <td>263</td>\n",
       "    </tr>\n",
       "    <tr>\n",
       "      <th>Citizenship</th>\n",
       "      <td>1614</td>\n",
       "      <td>17</td>\n",
       "      <td>Russia</td>\n",
       "      <td>1437</td>\n",
       "    </tr>\n",
       "    <tr>\n",
       "      <th>Categories</th>\n",
       "      <td>1614</td>\n",
       "      <td>27</td>\n",
       "      <td>Executors</td>\n",
       "      <td>732</td>\n",
       "    </tr>\n",
       "    <tr>\n",
       "      <th>Biography</th>\n",
       "      <td>1614</td>\n",
       "      <td>1084</td>\n",
       "      <td>Deputy of the State Duma of the 8th convocatio...</td>\n",
       "      <td>100</td>\n",
       "    </tr>\n",
       "  </tbody>\n",
       "</table>\n",
       "</div>"
      ],
      "text/plain": [
       "              count unique                                                top  \\\n",
       "Name           1614   1437                           Orlov Aleksey Maratovich   \n",
       "Date of Birth  1614   1171                                                      \n",
       "Citizenship    1614     17                                             Russia   \n",
       "Categories     1614     27                                          Executors   \n",
       "Biography      1614   1084  Deputy of the State Duma of the 8th convocatio...   \n",
       "\n",
       "               freq  \n",
       "Name              5  \n",
       "Date of Birth   263  \n",
       "Citizenship    1437  \n",
       "Categories      732  \n",
       "Biography       100  "
      ]
     },
     "execution_count": 35,
     "metadata": {},
     "output_type": "execute_result"
    }
   ],
   "source": [
    "full_dataset.describe().transpose()"
   ]
  },
  {
   "cell_type": "code",
   "execution_count": 36,
   "id": "8f84b93c",
   "metadata": {},
   "outputs": [
    {
     "data": {
      "text/plain": [
       "Russia     1437\n",
       "            143\n",
       "Ukraine       9\n",
       "Name: Citizenship, dtype: int64"
      ]
     },
     "execution_count": 36,
     "metadata": {},
     "output_type": "execute_result"
    }
   ],
   "source": [
    "full_dataset['Citizenship'].value_counts().head(3)"
   ]
  },
  {
   "cell_type": "code",
   "execution_count": 37,
   "id": "04db560d",
   "metadata": {},
   "outputs": [
    {
     "data": {
      "text/plain": [
       "Executors                          732\n",
       "Accomplices                        389\n",
       "Propagandists                      184\n",
       "Law-destroyers                      81\n",
       "Oligarchs and corrupt officials     50\n",
       "                                    42\n",
       "Beneficiaries                       38\n",
       "Executors, Law-destroyers           24\n",
       "Name: Categories, dtype: int64"
      ]
     },
     "execution_count": 37,
     "metadata": {},
     "output_type": "execute_result"
    }
   ],
   "source": [
    "full_dataset['Categories'].value_counts().head(8)"
   ]
  }
 ],
 "metadata": {
  "kernelspec": {
   "display_name": "Python 3 (ipykernel)",
   "language": "python",
   "name": "python3"
  },
  "language_info": {
   "codemirror_mode": {
    "name": "ipython",
    "version": 3
   },
   "file_extension": ".py",
   "mimetype": "text/x-python",
   "name": "python",
   "nbconvert_exporter": "python",
   "pygments_lexer": "ipython3",
   "version": "3.9.12"
  }
 },
 "nbformat": 4,
 "nbformat_minor": 5
}
