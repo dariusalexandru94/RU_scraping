{
 "cells": [
  {
   "cell_type": "markdown",
   "id": "0c1c3fed",
   "metadata": {},
   "source": [
    "# Scraping equipment losses with sources"
   ]
  },
  {
   "cell_type": "markdown",
   "id": "5269c28c",
   "metadata": {},
   "source": [
    "The original source of this aggregated data is from this OSINT project: **Attack On Europe: Documenting Russian Equipment Losses During The Russian Invasion Of Ukraine**. Thw website is:https://www.oryxspioenkop.com/2022/02/attack-on-europe-documenting-equipment.html"
   ]
  },
  {
   "cell_type": "markdown",
   "id": "c936a3fa",
   "metadata": {},
   "source": [
    "**I have preferred to scrape this data and rearrange it in a manner that fits my needs.**"
   ]
  },
  {
   "cell_type": "code",
   "execution_count": null,
   "id": "46bb40ed",
   "metadata": {},
   "outputs": [],
   "source": [
    "from bs4 import BeautifulSoup as bs\n",
    "import requests\n",
    "import urllib.request\n",
    "import re\n",
    "import numpy as np\n",
    "import pandas as pd"
   ]
  },
  {
   "cell_type": "code",
   "execution_count": 2,
   "id": "a5f91336",
   "metadata": {},
   "outputs": [],
   "source": [
    "page = urllib.request.urlopen(\"https://www.oryxspioenkop.com/2022/02/attack-on-europe-documenting-equipment.html\")\n",
    "soup = bs(page)"
   ]
  },
  {
   "cell_type": "code",
   "execution_count": 3,
   "id": "859377dd",
   "metadata": {},
   "outputs": [
    {
     "name": "stdout",
     "output_type": "stream",
     "text": [
      "Tanks (2146, of which destroyed: 1363, damaged: 120, abandoned: 115, captured: 548)\n",
      "Armoured Fighting Vehicles (925, of which destroyed: 598, damaged: 25, abandoned: 35, captured: 267)\n",
      "Infantry Fighting Vehicles (2547, of which destroyed: 1712, damaged: 97, abandoned: 134, captured: 604)\n",
      "Armoured Personnel Carriers (331, of which destroyed: 219, damaged: 9, abandoned: 14, captured: 89)\n",
      "Mine-Resistant Ambush Protected (MRAP) Vehicles (46, of which destroyed: 32, damaged: 4, abandoned: 1, captured: 9)\n",
      "Infantry Mobility Vehicles (197, of which destroyed: 138, damaged: 6, abandoned: 2, captured: 51)\n",
      "Command Posts And Communications Stations (244, of which destroyed: 157, damaged: 1, abandoned: 3, captured: 83)\n",
      "Engineering Vehicles And Equipment (322, of which destroyed: 151, damaged: 8, abandoned: 38, captured: 125)\n",
      "Self-Propelled Anti-Tank Missile Systems (40, of which destroyed: 16, damaged: 1, abandoned: 4, captured: 19)\n",
      "Artillery Support Vehicles And Equipment (103, of which destroyed: 51, abandoned: 1, captured: 51)\n",
      "Towed Artillery (260, of which destroyed: 139, damaged: 20, abandoned: 5, captured: 96)\n",
      "Self-Propelled Artillery (458, of which destroyed: 317, damaged: 28, abandoned: 7, captured: 106)\n",
      "Multiple Rocket Launchers (240, of which destroyed: 171, damaged: 14, abandoned: 2, captured: 53)\n",
      "Anti-Aircraft Guns (17, of which destroyed: 3, captured: 14)\n",
      "Self-Propelled Anti-Aircraft Guns (24, of which destroyed: 13, damaged: 1, abandoned: 2, captured: 8)\n",
      "Surface-To-Air Missile Systems (129, of which destroyed: 85, damaged: 16, abandoned: 4, captured: 24) \n",
      "Radars (38, of which destroyed: 25, damaged: 4, captured: 9) \n",
      "Jammers And Deception Systems (44, of which destroyed: 33, damaged: 4, captured: 7) \n",
      "Aircraft (84, of which destroyed: 76, damaged: 8)\n",
      "Helicopters (100, of which destroyed: 87, damaged: 12, captured: 1)\n",
      "Unmanned Combat Aerial Vehicles (12, of which destroyed: 10, captured: 2)\n",
      "Reconnaissance Unmanned Aerial Vehicles (259, of which destroyed: 141, captured: 118)\n",
      "Naval Ships (12, of which destroyed: 8, damaged: 4)\n",
      "Trucks, Vehicles, and Jeeps (2689, of which destroyed: 2023, damaged: 49, abandoned: 51, captured: 566)\n"
     ]
    }
   ],
   "source": [
    "h3s = soup.find_all('h3')\n",
    "\n",
    "for h3 in h3s[3::]:\n",
    "    print(h3.text)"
   ]
  },
  {
   "cell_type": "markdown",
   "id": "752c9712",
   "metadata": {},
   "source": [
    "**I have to access and scrape each category separately.**"
   ]
  },
  {
   "cell_type": "code",
   "execution_count": 4,
   "id": "3d7e2ce5",
   "metadata": {},
   "outputs": [],
   "source": [
    "ul = soup.find_all(\"ul\") # all categories"
   ]
  },
  {
   "cell_type": "markdown",
   "id": "32596baf",
   "metadata": {},
   "source": [
    "## Tanks"
   ]
  },
  {
   "cell_type": "code",
   "execution_count": 5,
   "id": "d941dd35",
   "metadata": {},
   "outputs": [],
   "source": [
    "tanks_ = ul[2]\n",
    "\n",
    "for i in tanks_:\n",
    "    tank_model = tanks_.find_all('li')\n",
    "    \n",
    "model = []\n",
    "photo_links = []\n",
    "state = []\n",
    "\n",
    "for i in range(len(tank_model)):\n",
    "    links = tank_model[i].find_all('a')\n",
    "    \n",
    "    for link in links:\n",
    "        model_num = tank_model[i].text[1::].split(\":\")[0]\n",
    "        model_num = model_num.replace('\\xa0', ' ')\n",
    "        href = link.get('href')\n",
    "        text = link.get_text(strip=True)[3:]\n",
    "        \n",
    "        if href:\n",
    "            photo_links.append(href)\n",
    "            state.append(text)\n",
    "            model.append(model_num) \n",
    "            \n",
    "tanks = pd.DataFrame({'model' : model, 'state': state, 'photo_links': photo_links})"
   ]
  },
  {
   "cell_type": "markdown",
   "id": "3b74745d",
   "metadata": {},
   "source": [
    "## Automating the process for the remaining 23 categories"
   ]
  },
  {
   "cell_type": "code",
   "execution_count": 6,
   "id": "fab6863e",
   "metadata": {},
   "outputs": [],
   "source": [
    "category_data = {}\n",
    "\n",
    "# names of objects (and dataframes)\n",
    "bs4_objects = {\n",
    "    \"armoured\": 3,\n",
    "    \"IFV\": 4,\n",
    "    \"APC\": 5,\n",
    "    \"MRAP\": 6,\n",
    "    \"IMV\": 7,\n",
    "    \"cmd_comms\": 8,\n",
    "    \"engineering\": 9,\n",
    "    \"ATGM\": 10,\n",
    "    \"arty_support\": 11,\n",
    "    \"arty_towed\": 12,\n",
    "    \"arty_SP\": 13,\n",
    "    \"MLRS\": 14,\n",
    "    \"aa_guns\": 15,\n",
    "    \"aa_gunsSP\": 16,\n",
    "    \"sam\": 17,\n",
    "    \"radars\": 18,\n",
    "    \"jammers\": 19,\n",
    "    \"aircrafts\": 20,\n",
    "    \"helicopters\": 21,\n",
    "    \"UAV\": 22,\n",
    "    \"rUAV\": 23,\n",
    "    \"navy\": 24,\n",
    "    \"auto\": 25\n",
    "}\n",
    "\n",
    "# loop and extract\n",
    "for category, ul_index in bs4_objects.items():\n",
    "    model = []\n",
    "    photo_links = []\n",
    "    state = []\n",
    "\n",
    "    ul_element = ul[ul_index]\n",
    "    cats = ul_element.find_all('li')\n",
    "\n",
    "    for cat in cats:\n",
    "        links = cat.find_all('a')\n",
    "\n",
    "        for link in links:\n",
    "            model_num = cat.text[1:].split(\":\")[0].replace('\\xa0', ' ')\n",
    "            href = link.get('href')\n",
    "            text = link.get_text(strip=True)[3:]\n",
    "\n",
    "            if href:\n",
    "                photo_links.append(href)\n",
    "                state.append(text)\n",
    "                model.append(model_num)\n",
    "\n",
    "    # genetaring a dataframe for each category + storing in dict\n",
    "    category_df = pd.DataFrame({'model': model, 'state': state, 'photo_links': photo_links})\n",
    "    category_data[category] = category_df"
   ]
  },
  {
   "cell_type": "code",
   "execution_count": 7,
   "id": "d9dfe02b",
   "metadata": {},
   "outputs": [
    {
     "data": {
      "text/html": [
       "<div>\n",
       "<style scoped>\n",
       "    .dataframe tbody tr th:only-of-type {\n",
       "        vertical-align: middle;\n",
       "    }\n",
       "\n",
       "    .dataframe tbody tr th {\n",
       "        vertical-align: top;\n",
       "    }\n",
       "\n",
       "    .dataframe thead th {\n",
       "        text-align: right;\n",
       "    }\n",
       "</style>\n",
       "<table border=\"1\" class=\"dataframe\">\n",
       "  <thead>\n",
       "    <tr style=\"text-align: right;\">\n",
       "      <th></th>\n",
       "      <th>model</th>\n",
       "      <th>state</th>\n",
       "      <th>photo_links</th>\n",
       "    </tr>\n",
       "  </thead>\n",
       "  <tbody>\n",
       "    <tr>\n",
       "      <th>0</th>\n",
       "      <td>1 BMPT Terminator</td>\n",
       "      <td>destroyed)</td>\n",
       "      <td>https://i.postimg.cc/vZznvbJ8/1000-bmpt-termin...</td>\n",
       "    </tr>\n",
       "    <tr>\n",
       "      <th>1</th>\n",
       "      <td>25 BRM-1(K) reconnaissance vehicle</td>\n",
       "      <td>destroyed)</td>\n",
       "      <td>https://postimg.cc/bGSbfRQm</td>\n",
       "    </tr>\n",
       "    <tr>\n",
       "      <th>2</th>\n",
       "      <td>25 BRM-1(K) reconnaissance vehicle</td>\n",
       "      <td>destroyed)</td>\n",
       "      <td>https://i.postimg.cc/gj3KbRGG/fsl.png</td>\n",
       "    </tr>\n",
       "    <tr>\n",
       "      <th>3</th>\n",
       "      <td>25 BRM-1(K) reconnaissance vehicle</td>\n",
       "      <td>destroyed)</td>\n",
       "      <td>https://i.postimg.cc/Ss7ZV5zW/d13p.png</td>\n",
       "    </tr>\n",
       "    <tr>\n",
       "      <th>4</th>\n",
       "      <td>25 BRM-1(K) reconnaissance vehicle</td>\n",
       "      <td>destroyed)</td>\n",
       "      <td>https://i.postimg.cc/QVLrdHRK/6880.png</td>\n",
       "    </tr>\n",
       "    <tr>\n",
       "      <th>...</th>\n",
       "      <td>...</td>\n",
       "      <td>...</td>\n",
       "      <td>...</td>\n",
       "    </tr>\n",
       "    <tr>\n",
       "      <th>862</th>\n",
       "      <td>200 Unknown AFV</td>\n",
       "      <td>, damaged)</td>\n",
       "      <td>https://i.postimg.cc/DyVtZr6P/1036-unkn-afv-da...</td>\n",
       "    </tr>\n",
       "    <tr>\n",
       "      <th>863</th>\n",
       "      <td>200 Unknown AFV</td>\n",
       "      <td>abandoned)</td>\n",
       "      <td>https://i.postimg.cc/RhRQ6vSr/dd2.jpg</td>\n",
       "    </tr>\n",
       "    <tr>\n",
       "      <th>864</th>\n",
       "      <td>200 Unknown AFV</td>\n",
       "      <td>abandoned)</td>\n",
       "      <td>https://i.postimg.cc/c49WrLL8/1016-unkn-afv-ab...</td>\n",
       "    </tr>\n",
       "    <tr>\n",
       "      <th>865</th>\n",
       "      <td>200 Unknown AFV</td>\n",
       "      <td>captured)</td>\n",
       "      <td>https://i.postimg.cc/pXJJrNhR/bj.png</td>\n",
       "    </tr>\n",
       "    <tr>\n",
       "      <th>866</th>\n",
       "      <td>200 Unknown AFV</td>\n",
       "      <td>captured)</td>\n",
       "      <td>https://i.postimg.cc/6px1pGbc/f8.jpg</td>\n",
       "    </tr>\n",
       "  </tbody>\n",
       "</table>\n",
       "<p>867 rows × 3 columns</p>\n",
       "</div>"
      ],
      "text/plain": [
       "                                  model        state  \\\n",
       "0                     1 BMPT Terminator   destroyed)   \n",
       "1    25 BRM-1(K) reconnaissance vehicle   destroyed)   \n",
       "2    25 BRM-1(K) reconnaissance vehicle   destroyed)   \n",
       "3    25 BRM-1(K) reconnaissance vehicle   destroyed)   \n",
       "4    25 BRM-1(K) reconnaissance vehicle   destroyed)   \n",
       "..                                  ...          ...   \n",
       "862                     200 Unknown AFV   , damaged)   \n",
       "863                     200 Unknown AFV   abandoned)   \n",
       "864                     200 Unknown AFV   abandoned)   \n",
       "865                     200 Unknown AFV    captured)   \n",
       "866                     200 Unknown AFV    captured)   \n",
       "\n",
       "                                           photo_links  \n",
       "0    https://i.postimg.cc/vZznvbJ8/1000-bmpt-termin...  \n",
       "1                          https://postimg.cc/bGSbfRQm  \n",
       "2                https://i.postimg.cc/gj3KbRGG/fsl.png  \n",
       "3               https://i.postimg.cc/Ss7ZV5zW/d13p.png  \n",
       "4               https://i.postimg.cc/QVLrdHRK/6880.png  \n",
       "..                                                 ...  \n",
       "862  https://i.postimg.cc/DyVtZr6P/1036-unkn-afv-da...  \n",
       "863              https://i.postimg.cc/RhRQ6vSr/dd2.jpg  \n",
       "864  https://i.postimg.cc/c49WrLL8/1016-unkn-afv-ab...  \n",
       "865               https://i.postimg.cc/pXJJrNhR/bj.png  \n",
       "866               https://i.postimg.cc/6px1pGbc/f8.jpg  \n",
       "\n",
       "[867 rows x 3 columns]"
      ]
     },
     "execution_count": 7,
     "metadata": {},
     "output_type": "execute_result"
    }
   ],
   "source": [
    "category_data['armoured']"
   ]
  },
  {
   "cell_type": "markdown",
   "id": "e82e162e",
   "metadata": {},
   "source": [
    "# Data transformation & quality assessment"
   ]
  },
  {
   "cell_type": "code",
   "execution_count": 8,
   "id": "a09bf386",
   "metadata": {},
   "outputs": [],
   "source": [
    "armoured = category_data['armoured']\n",
    "IFV = category_data['IFV']\n",
    "APC= category_data['APC']\n",
    "MRAP= category_data['MRAP']\n",
    "IMV= category_data['IMV']\n",
    "cmd_comms= category_data['cmd_comms']\n",
    "engineering= category_data['engineering']\n",
    "ATGM= category_data['ATGM']\n",
    "arty_support= category_data['arty_support']\n",
    "arty_towed= category_data['arty_towed']\n",
    "arty_SP= category_data['arty_SP']\n",
    "MLRS= category_data['MLRS']\n",
    "aa_guns= category_data['aa_guns']\n",
    "aa_gunsSP= category_data['aa_gunsSP']\n",
    "sam= category_data['sam']\n",
    "radars= category_data['radars']\n",
    "jammers= category_data['jammers']\n",
    "aircrafts= category_data['aircrafts']\n",
    "helicopters= category_data['helicopters']\n",
    "UAV= category_data['UAV']\n",
    "rUAV= category_data['rUAV']\n",
    "navy= category_data['navy']\n",
    "auto= category_data['auto']"
   ]
  },
  {
   "cell_type": "markdown",
   "id": "fb75ca53",
   "metadata": {},
   "source": [
    "## Functions for preprocessing the data"
   ]
  },
  {
   "cell_type": "code",
   "execution_count": 9,
   "id": "d0f658eb",
   "metadata": {},
   "outputs": [],
   "source": [
    "# remove number from the begining of the string\n",
    "\n",
    "def func1(record):\n",
    "    result = re.sub(r'^\\d+', '', record)\n",
    "    return result\n",
    "\n",
    "\n",
    "# remove \")\" and keep the last word\n",
    "\n",
    "def func2(record):\n",
    "    result1 = re.sub(r'\\)', '', record) # remove \")\"\n",
    "    result2 = re.findall(r'\\b\\w+\\b$', result1)[0] # keep just the last word\n",
    "    return result2\n",
    "\n",
    "\n",
    "# when counting the values of state, there is an instance \"abanoned\" instead of \"abandoned\"\n",
    "\n",
    "def replace_state(state):\n",
    "    if state == 'abanonded':\n",
    "        return 'abandoned'\n",
    "    else:\n",
    "        return state"
   ]
  },
  {
   "cell_type": "markdown",
   "id": "5556291b",
   "metadata": {},
   "source": [
    "### tanks preprocessing"
   ]
  },
  {
   "cell_type": "code",
   "execution_count": 10,
   "id": "d5f9a0c2",
   "metadata": {},
   "outputs": [],
   "source": [
    "# Unknown T-54/55 (1, destroyed) <- removing this (1, destroyed)\n",
    "\n",
    "def replace_tmodel(model):\n",
    "    if model == ' Unknown T-54/55 (1, destroyed)':\n",
    "        return 'Unknown T-54/55'\n",
    "    else:\n",
    "        return model\n",
    "    \n",
    "# replace \"Obr.\" with \"Mk\" from \"modification\"....in the context of an equipment model, \"Obr. ####\" stands \n",
    "# for \"обр. 2016\" in Russian, which translates to \"modification 2016\" in English\n",
    "\n",
    "def replace_mk(record):\n",
    "    result = re.sub(r'Obr\\.', 'Mk.', record)\n",
    "    return result"
   ]
  },
  {
   "cell_type": "markdown",
   "id": "49f1e492",
   "metadata": {},
   "source": [
    "### towed artilert preprocessing"
   ]
  },
  {
   "cell_type": "code",
   "execution_count": 11,
   "id": "837dc17a",
   "metadata": {},
   "outputs": [],
   "source": [
    "# remove \")\" and keep the last word\n",
    "\n",
    "def func_ta(record):\n",
    "    result1 = re.sub(r'\\)', '', record) # remove \")\"\n",
    "    #result2 = re.findall(r'\\b\\w+\\b$', result1)[0] # keep just the last word\n",
    "    words = result1.split()  # Split the string into a list of words\n",
    "    if words:\n",
    "        return words[-1]  # Return the last word\n",
    "    else:\n",
    "        return None \n",
    "    return words[-1]"
   ]
  },
  {
   "cell_type": "markdown",
   "id": "1ce7f461",
   "metadata": {},
   "source": [
    "## Applying Functions"
   ]
  },
  {
   "cell_type": "code",
   "execution_count": 12,
   "id": "998b2b82",
   "metadata": {},
   "outputs": [],
   "source": [
    "tanks['model'] = tanks['model'].apply(func1)\n",
    "tanks['state'] = tanks['state'].apply(func2)\n",
    "tanks['state'] = tanks['state'].apply(replace_state)\n",
    "tanks['model'] = tanks['model'].apply(replace_tmodel)\n",
    "tanks['model'] = tanks['model'].apply(replace_mk)"
   ]
  },
  {
   "cell_type": "code",
   "execution_count": 13,
   "id": "ca177799",
   "metadata": {},
   "outputs": [],
   "source": [
    "armoured['model'] = armoured['model'].apply(func1)\n",
    "armoured['state'] = armoured['state'].apply(func2)"
   ]
  },
  {
   "cell_type": "code",
   "execution_count": 14,
   "id": "741f8b7f",
   "metadata": {},
   "outputs": [],
   "source": [
    "IFV['model'] = IFV['model'].apply(func1)\n",
    "IFV['state'] = IFV['state'].apply(func2)"
   ]
  },
  {
   "cell_type": "code",
   "execution_count": 15,
   "id": "9b373cfe",
   "metadata": {},
   "outputs": [],
   "source": [
    "APC['model'] = APC['model'].apply(func1)\n",
    "APC['state'] = APC['state'].apply(func2)"
   ]
  },
  {
   "cell_type": "code",
   "execution_count": 16,
   "id": "b46a3f31",
   "metadata": {},
   "outputs": [],
   "source": [
    "MRAP['model'] = MRAP['model'].apply(func1)\n",
    "MRAP['state'] = MRAP['state'].apply(func2)"
   ]
  },
  {
   "cell_type": "code",
   "execution_count": 17,
   "id": "c21bd7d2",
   "metadata": {},
   "outputs": [],
   "source": [
    "IMV['model'] = IMV['model'].apply(func1)\n",
    "IMV['state'] = IMV['state'].apply(func2)"
   ]
  },
  {
   "cell_type": "code",
   "execution_count": 18,
   "id": "5482a9aa",
   "metadata": {},
   "outputs": [],
   "source": [
    "cmd_comms['model'] = cmd_comms['model'].apply(func1)\n",
    "cmd_comms['state'] = cmd_comms['state'].apply(func2)"
   ]
  },
  {
   "cell_type": "code",
   "execution_count": 19,
   "id": "0413d664",
   "metadata": {},
   "outputs": [],
   "source": [
    "engineering['model'] = engineering['model'].apply(func1)\n",
    "engineering['state'] = engineering['state'].apply(func2)"
   ]
  },
  {
   "cell_type": "code",
   "execution_count": 20,
   "id": "ad49c053",
   "metadata": {},
   "outputs": [],
   "source": [
    "ATGM['model'] = ATGM['model'].apply(func1)\n",
    "ATGM['state'] = ATGM['state'].apply(func2)"
   ]
  },
  {
   "cell_type": "code",
   "execution_count": 21,
   "id": "cb22e0ae",
   "metadata": {},
   "outputs": [],
   "source": [
    "arty_support['model'] = arty_support['model'].apply(func1)\n",
    "arty_support['state'] = arty_support['state'].apply(func2)"
   ]
  },
  {
   "cell_type": "code",
   "execution_count": 22,
   "id": "636e4871",
   "metadata": {},
   "outputs": [],
   "source": [
    "arty_towed['model'] = arty_towed['model'].apply(func1)\n",
    "arty_towed['state'] = arty_towed['state'].apply(func_ta) # custom\n",
    "arty_towed['state'] = arty_towed['state'].apply(lambda state: 'damaged' if state == 'aged' else state) # custom preprocessing"
   ]
  },
  {
   "cell_type": "code",
   "execution_count": 23,
   "id": "60bed552",
   "metadata": {},
   "outputs": [],
   "source": [
    "arty_SP['model'] = arty_SP['model'].apply(func1)\n",
    "arty_SP['state'] = arty_SP['state'].apply(func2)"
   ]
  },
  {
   "cell_type": "code",
   "execution_count": 24,
   "id": "0f9118e9",
   "metadata": {},
   "outputs": [],
   "source": [
    "MLRS['model'] = MLRS['model'].apply(func1)\n",
    "MLRS['state'] = MLRS['state'].apply(func2)"
   ]
  },
  {
   "cell_type": "code",
   "execution_count": 25,
   "id": "a960a4cc",
   "metadata": {},
   "outputs": [],
   "source": [
    "aa_guns['model'] = aa_guns['model'].apply(func1)\n",
    "aa_guns['state'] = aa_guns['state'].apply(func2)"
   ]
  },
  {
   "cell_type": "code",
   "execution_count": 26,
   "id": "c43d14d9",
   "metadata": {},
   "outputs": [],
   "source": [
    "aa_gunsSP['model'] = aa_gunsSP['model'].apply(func1)\n",
    "aa_gunsSP['state'] = aa_gunsSP['state'].apply(func2)"
   ]
  },
  {
   "cell_type": "code",
   "execution_count": 27,
   "id": "6a5a4ed7",
   "metadata": {},
   "outputs": [],
   "source": [
    "sam['model'] = sam['model'].apply(func1)\n",
    "sam['state'] = sam['state'].apply(func2)"
   ]
  },
  {
   "cell_type": "code",
   "execution_count": 28,
   "id": "7b5df1b9",
   "metadata": {},
   "outputs": [],
   "source": [
    "radars['model'] = radars['model'].apply(func1)\n",
    "radars['state'] = radars['state'].apply(func2)"
   ]
  },
  {
   "cell_type": "code",
   "execution_count": 29,
   "id": "1e64697a",
   "metadata": {},
   "outputs": [],
   "source": [
    "jammers['model'] = jammers['model'].apply(func1)\n",
    "jammers['state'] = jammers['state'].apply(func2)"
   ]
  },
  {
   "cell_type": "code",
   "execution_count": 30,
   "id": "b38dae1e",
   "metadata": {},
   "outputs": [],
   "source": [
    "aircrafts['model'] = aircrafts['model'].apply(func1)\n",
    "aircrafts['state'] = aircrafts['state'].apply(func2)"
   ]
  },
  {
   "cell_type": "code",
   "execution_count": 31,
   "id": "4fbc6386",
   "metadata": {},
   "outputs": [],
   "source": [
    "helicopters['model'] = helicopters['model'].apply(func1)\n",
    "helicopters['state'] = helicopters['state'].apply(func2)"
   ]
  },
  {
   "cell_type": "code",
   "execution_count": 32,
   "id": "47dbc242",
   "metadata": {},
   "outputs": [],
   "source": [
    "UAV['model'] = UAV['model'].apply(func1)\n",
    "UAV['state'] = UAV['state'].apply(func2)"
   ]
  },
  {
   "cell_type": "code",
   "execution_count": 33,
   "id": "f4c657b8",
   "metadata": {},
   "outputs": [],
   "source": [
    "rUAV['model'] = rUAV['model'].apply(func1)\n",
    "rUAV['state'] = rUAV['state'].apply(func2)"
   ]
  },
  {
   "cell_type": "code",
   "execution_count": 34,
   "id": "8037fcd9",
   "metadata": {},
   "outputs": [],
   "source": [
    "navy['model'] = navy['model'].apply(func1)\n",
    "navy['state'] = navy['state'].apply(func2)"
   ]
  },
  {
   "cell_type": "code",
   "execution_count": 35,
   "id": "5a005007",
   "metadata": {},
   "outputs": [],
   "source": [
    "auto['model'] = auto['model'].apply(func1)\n",
    "auto['state'] = auto['state'].apply(func2)"
   ]
  },
  {
   "cell_type": "markdown",
   "id": "f6b6ac6e",
   "metadata": {},
   "source": [
    "## Reshaping"
   ]
  },
  {
   "cell_type": "markdown",
   "id": "55802410",
   "metadata": {},
   "source": [
    "I want to aggregate the data in another manner. For example, these categories ('armoured', 'IFV', 'APC', 'MRAP', 'IMV') will become \"Infantry vehicles.\" Artillery support, self-propelled artillery, and towed artillery will become \"artillery,\" and so on."
   ]
  },
  {
   "cell_type": "markdown",
   "id": "28605fbe",
   "metadata": {},
   "source": [
    "### Infantry vehicles"
   ]
  },
  {
   "cell_type": "code",
   "execution_count": 37,
   "id": "52ffe240",
   "metadata": {},
   "outputs": [],
   "source": [
    "# categories\n",
    "category_names = ['armoured', 'IFV', 'APC', 'MRAP', 'IMV']\n",
    "\n",
    "# creating a dictionary to hold dataframes with category names as keys\n",
    "category_dataframes = dict(zip(category_names, [armoured, IFV, APC, MRAP, IMV])) \n",
    "\n",
    "# adding 'category' column to each df and concatenate\n",
    "infantry_vehicles = pd.concat([df.assign(category=category) for category, df in category_dataframes.items()], ignore_index=True)"
   ]
  },
  {
   "cell_type": "code",
   "execution_count": 38,
   "id": "cffeb3bc",
   "metadata": {},
   "outputs": [
    {
     "data": {
      "text/plain": [
       "IFV         2361\n",
       "armoured     867\n",
       "APC          321\n",
       "IMV          190\n",
       "MRAP          46\n",
       "Name: category, dtype: int64"
      ]
     },
     "execution_count": 38,
     "metadata": {},
     "output_type": "execute_result"
    }
   ],
   "source": [
    "infantry_vehicles['category'].value_counts()"
   ]
  },
  {
   "cell_type": "markdown",
   "id": "8156a5b3",
   "metadata": {},
   "source": [
    "### Artillery"
   ]
  },
  {
   "cell_type": "code",
   "execution_count": 39,
   "id": "e0fe4565",
   "metadata": {},
   "outputs": [],
   "source": [
    "category_names = ['towed', 'support', 'self propelled']\n",
    "\n",
    "category_dataframes = dict(zip(category_names, [arty_support, arty_towed, arty_SP]))\n",
    "\n",
    "artillery = pd.concat([df.assign(category=category) for category, df in category_dataframes.items()], ignore_index=True)"
   ]
  },
  {
   "cell_type": "code",
   "execution_count": 40,
   "id": "a09b7704",
   "metadata": {},
   "outputs": [
    {
     "data": {
      "text/html": [
       "<div>\n",
       "<style scoped>\n",
       "    .dataframe tbody tr th:only-of-type {\n",
       "        vertical-align: middle;\n",
       "    }\n",
       "\n",
       "    .dataframe tbody tr th {\n",
       "        vertical-align: top;\n",
       "    }\n",
       "\n",
       "    .dataframe thead th {\n",
       "        text-align: right;\n",
       "    }\n",
       "</style>\n",
       "<table border=\"1\" class=\"dataframe\">\n",
       "  <thead>\n",
       "    <tr style=\"text-align: right;\">\n",
       "      <th></th>\n",
       "      <th>model</th>\n",
       "      <th>state</th>\n",
       "      <th>photo_links</th>\n",
       "      <th>category</th>\n",
       "    </tr>\n",
       "  </thead>\n",
       "  <tbody>\n",
       "    <tr>\n",
       "      <th>0</th>\n",
       "      <td>1V110 BM-21 Grad battery command vehicle</td>\n",
       "      <td>destroyed</td>\n",
       "      <td>https://i.postimg.cc/VLV92mk5/433.png</td>\n",
       "      <td>towed</td>\n",
       "    </tr>\n",
       "    <tr>\n",
       "      <th>1</th>\n",
       "      <td>1V13(M) battery fire control center</td>\n",
       "      <td>destroyed</td>\n",
       "      <td>https://i.postimg.cc/BnQf3bzx/d134.jpg</td>\n",
       "      <td>towed</td>\n",
       "    </tr>\n",
       "    <tr>\n",
       "      <th>2</th>\n",
       "      <td>1V13(M) battery fire control center</td>\n",
       "      <td>destroyed</td>\n",
       "      <td>https://i.postimg.cc/c4K0H35q/3211.png</td>\n",
       "      <td>towed</td>\n",
       "    </tr>\n",
       "    <tr>\n",
       "      <th>3</th>\n",
       "      <td>1V13(M) battery fire control center</td>\n",
       "      <td>destroyed</td>\n",
       "      <td>https://i.postimg.cc/132LjY94/3213.png</td>\n",
       "      <td>towed</td>\n",
       "    </tr>\n",
       "    <tr>\n",
       "      <th>4</th>\n",
       "      <td>1V13(M) battery fire control center</td>\n",
       "      <td>destroyed</td>\n",
       "      <td>https://i.postimg.cc/CxYFzQpq/2022-03-30-1v13.jpg</td>\n",
       "      <td>towed</td>\n",
       "    </tr>\n",
       "    <tr>\n",
       "      <th>...</th>\n",
       "      <td>...</td>\n",
       "      <td>...</td>\n",
       "      <td>...</td>\n",
       "      <td>...</td>\n",
       "    </tr>\n",
       "    <tr>\n",
       "      <th>745</th>\n",
       "      <td>Unknown SPG</td>\n",
       "      <td>destroyed</td>\n",
       "      <td>https://i.postimg.cc/tT7DqT7g/1002-unkn-spg.jpg</td>\n",
       "      <td>self propelled</td>\n",
       "    </tr>\n",
       "    <tr>\n",
       "      <th>746</th>\n",
       "      <td>Unknown SPG</td>\n",
       "      <td>destroyed</td>\n",
       "      <td>https://i.postimg.cc/rsqnYfG3/1066-2x-unkn-spg...</td>\n",
       "      <td>self propelled</td>\n",
       "    </tr>\n",
       "    <tr>\n",
       "      <th>747</th>\n",
       "      <td>Unknown SPG</td>\n",
       "      <td>destroyed</td>\n",
       "      <td>https://i.postimg.cc/C55Z6LTd/1013-unkn-spg-de...</td>\n",
       "      <td>self propelled</td>\n",
       "    </tr>\n",
       "    <tr>\n",
       "      <th>748</th>\n",
       "      <td>Unknown SPG</td>\n",
       "      <td>damaged</td>\n",
       "      <td>https://twitter.com/UAWeapons/status/150701229...</td>\n",
       "      <td>self propelled</td>\n",
       "    </tr>\n",
       "    <tr>\n",
       "      <th>749</th>\n",
       "      <td>Unknown SPG</td>\n",
       "      <td>damaged</td>\n",
       "      <td>https://i.postimg.cc/brmSsT57/1001-unkn-spg.jpg</td>\n",
       "      <td>self propelled</td>\n",
       "    </tr>\n",
       "  </tbody>\n",
       "</table>\n",
       "<p>750 rows × 4 columns</p>\n",
       "</div>"
      ],
      "text/plain": [
       "                                         model      state  \\\n",
       "0     1V110 BM-21 Grad battery command vehicle  destroyed   \n",
       "1          1V13(M) battery fire control center  destroyed   \n",
       "2          1V13(M) battery fire control center  destroyed   \n",
       "3          1V13(M) battery fire control center  destroyed   \n",
       "4          1V13(M) battery fire control center  destroyed   \n",
       "..                                         ...        ...   \n",
       "745                                Unknown SPG  destroyed   \n",
       "746                                Unknown SPG  destroyed   \n",
       "747                                Unknown SPG  destroyed   \n",
       "748                                Unknown SPG    damaged   \n",
       "749                                Unknown SPG    damaged   \n",
       "\n",
       "                                           photo_links        category  \n",
       "0                https://i.postimg.cc/VLV92mk5/433.png           towed  \n",
       "1               https://i.postimg.cc/BnQf3bzx/d134.jpg           towed  \n",
       "2               https://i.postimg.cc/c4K0H35q/3211.png           towed  \n",
       "3               https://i.postimg.cc/132LjY94/3213.png           towed  \n",
       "4    https://i.postimg.cc/CxYFzQpq/2022-03-30-1v13.jpg           towed  \n",
       "..                                                 ...             ...  \n",
       "745    https://i.postimg.cc/tT7DqT7g/1002-unkn-spg.jpg  self propelled  \n",
       "746  https://i.postimg.cc/rsqnYfG3/1066-2x-unkn-spg...  self propelled  \n",
       "747  https://i.postimg.cc/C55Z6LTd/1013-unkn-spg-de...  self propelled  \n",
       "748  https://twitter.com/UAWeapons/status/150701229...  self propelled  \n",
       "749    https://i.postimg.cc/brmSsT57/1001-unkn-spg.jpg  self propelled  \n",
       "\n",
       "[750 rows x 4 columns]"
      ]
     },
     "execution_count": 40,
     "metadata": {},
     "output_type": "execute_result"
    }
   ],
   "source": [
    "artillery"
   ]
  },
  {
   "cell_type": "markdown",
   "id": "3f260366",
   "metadata": {},
   "source": [
    "### Anti Aircraft"
   ]
  },
  {
   "cell_type": "code",
   "execution_count": 41,
   "id": "629ade22",
   "metadata": {},
   "outputs": [],
   "source": [
    "category_names = ['anti aircraft gun', 'self propelled AA', 'surface-to-air missile system']\n",
    "\n",
    "category_dataframes = dict(zip(category_names, [aa_guns, aa_gunsSP, sam]))\n",
    "\n",
    "AA = pd.concat([df.assign(category=category) for category, df in category_dataframes.items()], ignore_index=True)"
   ]
  },
  {
   "cell_type": "code",
   "execution_count": 42,
   "id": "3e75e0bf",
   "metadata": {},
   "outputs": [
    {
     "data": {
      "text/html": [
       "<div>\n",
       "<style scoped>\n",
       "    .dataframe tbody tr th:only-of-type {\n",
       "        vertical-align: middle;\n",
       "    }\n",
       "\n",
       "    .dataframe tbody tr th {\n",
       "        vertical-align: top;\n",
       "    }\n",
       "\n",
       "    .dataframe thead th {\n",
       "        text-align: right;\n",
       "    }\n",
       "</style>\n",
       "<table border=\"1\" class=\"dataframe\">\n",
       "  <thead>\n",
       "    <tr style=\"text-align: right;\">\n",
       "      <th></th>\n",
       "      <th>model</th>\n",
       "      <th>state</th>\n",
       "      <th>photo_links</th>\n",
       "      <th>category</th>\n",
       "    </tr>\n",
       "  </thead>\n",
       "  <tbody>\n",
       "    <tr>\n",
       "      <th>0</th>\n",
       "      <td>23mm ZU-23-2</td>\n",
       "      <td>destroyed</td>\n",
       "      <td>https://i.postimg.cc/Y24jwX90/s2.png</td>\n",
       "      <td>anti aircraft gun</td>\n",
       "    </tr>\n",
       "    <tr>\n",
       "      <th>1</th>\n",
       "      <td>23mm ZU-23-2</td>\n",
       "      <td>destroyed</td>\n",
       "      <td>https://i.postimg.cc/MKgzsYwB/366.png</td>\n",
       "      <td>anti aircraft gun</td>\n",
       "    </tr>\n",
       "    <tr>\n",
       "      <th>2</th>\n",
       "      <td>23mm ZU-23-2</td>\n",
       "      <td>destroyed</td>\n",
       "      <td>https://twitter.com/UAWeapons/status/157836418...</td>\n",
       "      <td>anti aircraft gun</td>\n",
       "    </tr>\n",
       "    <tr>\n",
       "      <th>3</th>\n",
       "      <td>23mm ZU-23-2</td>\n",
       "      <td>captured</td>\n",
       "      <td>https://i.postimg.cc/rwZrBrTp/4fh.png</td>\n",
       "      <td>anti aircraft gun</td>\n",
       "    </tr>\n",
       "    <tr>\n",
       "      <th>4</th>\n",
       "      <td>23mm ZU-23-2</td>\n",
       "      <td>captured</td>\n",
       "      <td>https://i.postimg.cc/t4z6JH5f/3d14.png</td>\n",
       "      <td>anti aircraft gun</td>\n",
       "    </tr>\n",
       "    <tr>\n",
       "      <th>...</th>\n",
       "      <td>...</td>\n",
       "      <td>...</td>\n",
       "      <td>...</td>\n",
       "      <td>...</td>\n",
       "    </tr>\n",
       "    <tr>\n",
       "      <th>160</th>\n",
       "      <td>5P85SM2-01 (launcher for S-400)</td>\n",
       "      <td>destroyed</td>\n",
       "      <td>https://twitter.com/UAWeapons/status/161644531...</td>\n",
       "      <td>surface-to-air missile system</td>\n",
       "    </tr>\n",
       "    <tr>\n",
       "      <th>161</th>\n",
       "      <td>5P85SM2-01 (launcher for S-400)</td>\n",
       "      <td>destroyed</td>\n",
       "      <td>https://twitter.com/UAWeapons/status/167850966...</td>\n",
       "      <td>surface-to-air missile system</td>\n",
       "    </tr>\n",
       "    <tr>\n",
       "      <th>162</th>\n",
       "      <td>5P85SD/SM (launcher for S-300 PMU(-1))</td>\n",
       "      <td>destroyed</td>\n",
       "      <td>https://twitter.com/UAWeapons/status/155121622...</td>\n",
       "      <td>surface-to-air missile system</td>\n",
       "    </tr>\n",
       "    <tr>\n",
       "      <th>163</th>\n",
       "      <td>5P85SD/SM (launcher for S-300 PMU(-1))</td>\n",
       "      <td>destroyed</td>\n",
       "      <td>https://twitter.com/naalsio26/status/165147582...</td>\n",
       "      <td>surface-to-air missile system</td>\n",
       "    </tr>\n",
       "    <tr>\n",
       "      <th>164</th>\n",
       "      <td>9A83M2 (launcher for S-300V4)</td>\n",
       "      <td>destroyed</td>\n",
       "      <td>https://twitter.com/UAWeapons/status/163386661...</td>\n",
       "      <td>surface-to-air missile system</td>\n",
       "    </tr>\n",
       "  </tbody>\n",
       "</table>\n",
       "<p>165 rows × 4 columns</p>\n",
       "</div>"
      ],
      "text/plain": [
       "                                       model      state  \\\n",
       "0                               23mm ZU-23-2  destroyed   \n",
       "1                               23mm ZU-23-2  destroyed   \n",
       "2                               23mm ZU-23-2  destroyed   \n",
       "3                               23mm ZU-23-2   captured   \n",
       "4                               23mm ZU-23-2   captured   \n",
       "..                                       ...        ...   \n",
       "160          5P85SM2-01 (launcher for S-400)  destroyed   \n",
       "161          5P85SM2-01 (launcher for S-400)  destroyed   \n",
       "162   5P85SD/SM (launcher for S-300 PMU(-1))  destroyed   \n",
       "163   5P85SD/SM (launcher for S-300 PMU(-1))  destroyed   \n",
       "164            9A83M2 (launcher for S-300V4)  destroyed   \n",
       "\n",
       "                                           photo_links  \\\n",
       "0                 https://i.postimg.cc/Y24jwX90/s2.png   \n",
       "1                https://i.postimg.cc/MKgzsYwB/366.png   \n",
       "2    https://twitter.com/UAWeapons/status/157836418...   \n",
       "3                https://i.postimg.cc/rwZrBrTp/4fh.png   \n",
       "4               https://i.postimg.cc/t4z6JH5f/3d14.png   \n",
       "..                                                 ...   \n",
       "160  https://twitter.com/UAWeapons/status/161644531...   \n",
       "161  https://twitter.com/UAWeapons/status/167850966...   \n",
       "162  https://twitter.com/UAWeapons/status/155121622...   \n",
       "163  https://twitter.com/naalsio26/status/165147582...   \n",
       "164  https://twitter.com/UAWeapons/status/163386661...   \n",
       "\n",
       "                          category  \n",
       "0                anti aircraft gun  \n",
       "1                anti aircraft gun  \n",
       "2                anti aircraft gun  \n",
       "3                anti aircraft gun  \n",
       "4                anti aircraft gun  \n",
       "..                             ...  \n",
       "160  surface-to-air missile system  \n",
       "161  surface-to-air missile system  \n",
       "162  surface-to-air missile system  \n",
       "163  surface-to-air missile system  \n",
       "164  surface-to-air missile system  \n",
       "\n",
       "[165 rows x 4 columns]"
      ]
     },
     "execution_count": 42,
     "metadata": {},
     "output_type": "execute_result"
    }
   ],
   "source": [
    "AA"
   ]
  },
  {
   "cell_type": "markdown",
   "id": "b5b833e6",
   "metadata": {},
   "source": [
    "### UAVs"
   ]
  },
  {
   "cell_type": "code",
   "execution_count": 43,
   "id": "1c5a1c64",
   "metadata": {},
   "outputs": [],
   "source": [
    "category_names = ['combat UAV', 'reconnaissance UAV']\n",
    "\n",
    "category_dataframes = dict(zip(category_names, [UAV, rUAV]))\n",
    "\n",
    "UAV = pd.concat([df.assign(category=category) for category, df in category_dataframes.items()], ignore_index=True)"
   ]
  },
  {
   "cell_type": "code",
   "execution_count": 44,
   "id": "70f3fe39",
   "metadata": {},
   "outputs": [
    {
     "data": {
      "text/html": [
       "<div>\n",
       "<style scoped>\n",
       "    .dataframe tbody tr th:only-of-type {\n",
       "        vertical-align: middle;\n",
       "    }\n",
       "\n",
       "    .dataframe tbody tr th {\n",
       "        vertical-align: top;\n",
       "    }\n",
       "\n",
       "    .dataframe thead th {\n",
       "        text-align: right;\n",
       "    }\n",
       "</style>\n",
       "<table border=\"1\" class=\"dataframe\">\n",
       "  <thead>\n",
       "    <tr style=\"text-align: right;\">\n",
       "      <th></th>\n",
       "      <th>model</th>\n",
       "      <th>state</th>\n",
       "      <th>photo_links</th>\n",
       "      <th>category</th>\n",
       "    </tr>\n",
       "  </thead>\n",
       "  <tbody>\n",
       "    <tr>\n",
       "      <th>0</th>\n",
       "      <td>Orion</td>\n",
       "      <td>destroyed</td>\n",
       "      <td>https://i.postimg.cc/FsNjfGyG/57.png</td>\n",
       "      <td>combat UAV</td>\n",
       "    </tr>\n",
       "    <tr>\n",
       "      <th>1</th>\n",
       "      <td>Orion</td>\n",
       "      <td>destroyed</td>\n",
       "      <td>https://twitter.com/LotA_IL/status/15831597758...</td>\n",
       "      <td>combat UAV</td>\n",
       "    </tr>\n",
       "    <tr>\n",
       "      <th>2</th>\n",
       "      <td>Orion</td>\n",
       "      <td>destroyed</td>\n",
       "      <td>https://i.postimg.cc/DzDCgRwq/1011-Orion-ucav-...</td>\n",
       "      <td>combat UAV</td>\n",
       "    </tr>\n",
       "    <tr>\n",
       "      <th>3</th>\n",
       "      <td>Orion</td>\n",
       "      <td>destroyed</td>\n",
       "      <td>https://twitter.com/UAWeapons/status/165782877...</td>\n",
       "      <td>combat UAV</td>\n",
       "    </tr>\n",
       "    <tr>\n",
       "      <th>4</th>\n",
       "      <td>Orion</td>\n",
       "      <td>destroyed</td>\n",
       "      <td>https://i.postimg.cc/G2vF5ggy/1000-orion-ucav-...</td>\n",
       "      <td>combat UAV</td>\n",
       "    </tr>\n",
       "    <tr>\n",
       "      <th>...</th>\n",
       "      <td>...</td>\n",
       "      <td>...</td>\n",
       "      <td>...</td>\n",
       "      <td>...</td>\n",
       "    </tr>\n",
       "    <tr>\n",
       "      <th>265</th>\n",
       "      <td>Supercam S350</td>\n",
       "      <td>destroyed</td>\n",
       "      <td>https://i.postimg.cc/RZjJzDkD/1042-Supercam-S3...</td>\n",
       "      <td>reconnaissance UAV</td>\n",
       "    </tr>\n",
       "    <tr>\n",
       "      <th>266</th>\n",
       "      <td>Supercam S350</td>\n",
       "      <td>captured</td>\n",
       "      <td>https://i.postimg.cc/9fSnXycR/46g.png</td>\n",
       "      <td>reconnaissance UAV</td>\n",
       "    </tr>\n",
       "    <tr>\n",
       "      <th>267</th>\n",
       "      <td>Supercam S350</td>\n",
       "      <td>captured</td>\n",
       "      <td>https://i.postimg.cc/zXcdXxRN/1046-Supercam-S3...</td>\n",
       "      <td>reconnaissance UAV</td>\n",
       "    </tr>\n",
       "    <tr>\n",
       "      <th>268</th>\n",
       "      <td>Supercam S350</td>\n",
       "      <td>captured</td>\n",
       "      <td>https://i.postimg.cc/k5tJ9kyT/1037-Supercam-S3...</td>\n",
       "      <td>reconnaissance UAV</td>\n",
       "    </tr>\n",
       "    <tr>\n",
       "      <th>269</th>\n",
       "      <td>Grifon-12</td>\n",
       "      <td>captured</td>\n",
       "      <td>https://i.postimg.cc/SRMbNRm3/1011-Grifon-12-u...</td>\n",
       "      <td>reconnaissance UAV</td>\n",
       "    </tr>\n",
       "  </tbody>\n",
       "</table>\n",
       "<p>270 rows × 4 columns</p>\n",
       "</div>"
      ],
      "text/plain": [
       "              model      state  \\\n",
       "0             Orion  destroyed   \n",
       "1             Orion  destroyed   \n",
       "2             Orion  destroyed   \n",
       "3             Orion  destroyed   \n",
       "4             Orion  destroyed   \n",
       "..              ...        ...   \n",
       "265   Supercam S350  destroyed   \n",
       "266   Supercam S350   captured   \n",
       "267   Supercam S350   captured   \n",
       "268   Supercam S350   captured   \n",
       "269       Grifon-12   captured   \n",
       "\n",
       "                                           photo_links            category  \n",
       "0                 https://i.postimg.cc/FsNjfGyG/57.png          combat UAV  \n",
       "1    https://twitter.com/LotA_IL/status/15831597758...          combat UAV  \n",
       "2    https://i.postimg.cc/DzDCgRwq/1011-Orion-ucav-...          combat UAV  \n",
       "3    https://twitter.com/UAWeapons/status/165782877...          combat UAV  \n",
       "4    https://i.postimg.cc/G2vF5ggy/1000-orion-ucav-...          combat UAV  \n",
       "..                                                 ...                 ...  \n",
       "265  https://i.postimg.cc/RZjJzDkD/1042-Supercam-S3...  reconnaissance UAV  \n",
       "266              https://i.postimg.cc/9fSnXycR/46g.png  reconnaissance UAV  \n",
       "267  https://i.postimg.cc/zXcdXxRN/1046-Supercam-S3...  reconnaissance UAV  \n",
       "268  https://i.postimg.cc/k5tJ9kyT/1037-Supercam-S3...  reconnaissance UAV  \n",
       "269  https://i.postimg.cc/SRMbNRm3/1011-Grifon-12-u...  reconnaissance UAV  \n",
       "\n",
       "[270 rows x 4 columns]"
      ]
     },
     "execution_count": 44,
     "metadata": {},
     "output_type": "execute_result"
    }
   ],
   "source": [
    "UAV"
   ]
  },
  {
   "cell_type": "code",
   "execution_count": 45,
   "id": "f9bc681d",
   "metadata": {},
   "outputs": [],
   "source": [
    "tanks['category'] = 'tank'\n",
    "cmd_comms['category'] = 'C2 vehicle'\n",
    "engineering['category'] = 'engineering'\n",
    "ATGM['category'] = 'anti-tank guided missile'\n",
    "MLRS['category'] = 'MLRS'\n",
    "radars['category'] = 'radar'\n",
    "jammers['category'] = 'jammer'\n",
    "aircrafts['category'] = 'aircraft'\n",
    "helicopters['category'] = 'helicopter'\n",
    "navy['category'] = 'navy'\n",
    "auto['category'] = 'auto'"
   ]
  },
  {
   "cell_type": "code",
   "execution_count": null,
   "id": "8cc53b65",
   "metadata": {},
   "outputs": [],
   "source": []
  }
 ],
 "metadata": {
  "kernelspec": {
   "display_name": "Python 3 (ipykernel)",
   "language": "python",
   "name": "python3"
  },
  "language_info": {
   "codemirror_mode": {
    "name": "ipython",
    "version": 3
   },
   "file_extension": ".py",
   "mimetype": "text/x-python",
   "name": "python",
   "nbconvert_exporter": "python",
   "pygments_lexer": "ipython3",
   "version": "3.9.12"
  }
 },
 "nbformat": 4,
 "nbformat_minor": 5
}
